{
  "cells": [
    {
      "cell_type": "code",
      "execution_count": 1,
      "metadata": {
        "colab": {
          "base_uri": "https://localhost:8080/"
        },
        "id": "jwDlIleWug4_",
        "outputId": "21400cff-4d87-4af6-e94e-8bdf247fa18c"
      },
      "outputs": [
        {
          "name": "stdout",
          "output_type": "stream",
          "text": [
            " figures\t\t       InfEraser.py\t papers        README.md\n",
            "'images test reconstruction'   Originale.ipynb\t __pycache__   trasformation.py\n"
          ]
        }
      ],
      "source": [
        "file_id_train = \"17LdtNKkpOEpk-l_EKX4BwtGUm0ML6vmT\" #links = 2 (472827)events\n",
        "file_id_val = \"1WC-TS1pel_lUT7bPenVyDXKEQjxjAmlg\" #links = 1 (920599)events\n",
        "\n",
        "#!gdown https://drive.google.com/uc?id={file_id_train}\n",
        "#!gdown https://drive.google.com/uc?id={file_id_val}\n",
        "!ls\n",
        "\n",
        "#!pip install nflows"
      ]
    },
    {
      "cell_type": "code",
      "execution_count": 2,
      "metadata": {
        "id": "XeWj117PLm-R"
      },
      "outputs": [],
      "source": [
        "#training\n",
        "# gaus = flow(data)\n",
        "# unif = erf(gaus)\n",
        "# unif' = unif * 2**N\n",
        "# unif'' = int(unif')\n",
        "# comp = unif''/2**N\n",
        "# gaus' = erfinv(comp)\n",
        "# data' = flow^-1(gaus') ==? data"
      ]
    },
    {
      "cell_type": "code",
      "execution_count": 3,
      "metadata": {
        "id": "TVqwByBl5nam"
      },
      "outputs": [],
      "source": [
        "from nflows.flows.base import Flow\n",
        "from nflows.distributions.normal import StandardNormal\n",
        "from nflows.transforms.base import CompositeTransform\n",
        "from nflows.transforms.base import InverseTransform\n",
        "from nflows.transforms.autoregressive import MaskedAffineAutoregressiveTransform\n",
        "from nflows.transforms.permutations import ReversePermutation\n",
        "from nflows.transforms.permutations import RandomPermutation\n",
        "\n",
        "from torch import optim\n",
        "from sklearn import preprocessing\n",
        "import trasformation\n",
        "import InfEraser\n",
        "import scipy.special\n",
        "import numpy as np\n",
        "import matplotlib.pyplot as plt\n",
        "import torch\n",
        "from os import stat\n",
        "import sys\n",
        "\n",
        "\n",
        "labels_map = {\n",
        "    0: \"$p_T$\",\n",
        "    1: \"$\\eta$\",\n",
        "    2: \"$\\phi$\",\n",
        "    3: \"mass\",\n",
        "    4: \"JetArea\",\n",
        "    5: \"ChargedHadronEnergy\",\n",
        "    6: \"NeutralHadronEnergy\",\n",
        "    7: \"PhotonEnergy\",\n",
        "    8: \"ElectronEnergy\",\n",
        "    9: \"MuonEnergy\",\n",
        "    10: \"HFHadronHadronEnergy\",\n",
        "    11: \"HFEMEnergy\",\n",
        "    12: \"ChargedHadronMultiplicity\",\n",
        "    13: \"NeutralHadronMultiplicity\",\n",
        "    14: \"PhotonMultiplicity\",\n",
        "    15: \"ElectronMultiplicity\",\n",
        "    16: \"MuonMultiplicity\",\n",
        "    17: \"HFHadronMultiplicity\",\n",
        "    18: \"HFEMMultiplicity\",\n",
        "    19: \"ChargedEmEnergy\",\n",
        "    20: \"ChargedMuEnergy\",\n",
        "    21: \"NeutralEmEnergy\",\n",
        "    22: \"ChargedMultiplicity\",\n",
        "    23: \"NeutralMultiplicity\",\n",
        "}\n",
        "num_features = len(labels_map)\n",
        "\n",
        "index_int = np.append(np.arange(12,19),[22,23])\n",
        "index_float = np.append(np.arange(0,12),np.arange(19,22))"
      ]
    },
    {
      "cell_type": "code",
      "execution_count": 4,
      "metadata": {
        "colab": {
          "base_uri": "https://localhost:8080/"
        },
        "id": "TTR7jb9mchWy",
        "outputId": "85a59844-0df8-45bc-901a-38679aed4142"
      },
      "outputs": [
        {
          "name": "stdout",
          "output_type": "stream",
          "text": [
            "472827\n"
          ]
        }
      ],
      "source": [
        "x = np.loadtxt(\"/home/unipi/i.ditota/Desktop/dataset_piccolo.txt\", delimiter=',')\n",
        "xval = np.loadtxt(\"/home/unipi/i.ditota/Desktop/dataset.txt\", delimiter=',')\n",
        "L=len(x)\n",
        "print(L)"
      ]
    },
    {
      "cell_type": "code",
      "execution_count": 5,
      "metadata": {},
      "outputs": [
        {
          "name": "stdout",
          "output_type": "stream",
          "text": [
            "Eventi = 29551\n",
            "attribute\tvalue\ttype\n",
            "\n",
            "$p_T$\t15.8641204834\t<class 'numpy.float64'>\n",
            "\n",
            "$\\eta$\t-2.97655129433\t<class 'numpy.float64'>\n",
            "\n",
            "$\\phi$\t-1.19218158722\t<class 'numpy.float64'>\n",
            "\n",
            "mass\t4.52637481689\t<class 'numpy.float64'>\n",
            "\n"
          ]
        },
        {
          "name": "stderr",
          "output_type": "stream",
          "text": [
            "/home/unipi/i.ditota/.local/lib/python3.10/site-packages/torch/cuda/__init__.py:611: UserWarning: Can't initialize NVML\n",
            "  warnings.warn(\"Can't initialize NVML\")\n"
          ]
        }
      ],
      "source": [
        "###LOG SU 0 E 3,STD SU TUTTE E QUATTRO LE FEATURES E QUANTILE SU 1,2\n",
        "\n",
        "x = x[:int(L/16),:] #da mettere al massimo a 8 in colab\n",
        "xval = xval[:len(x),:]\n",
        "\n",
        "num_features = 4\n",
        "x = x[:,0:num_features]\n",
        "xval = xval[:,0:num_features]\n",
        "\n",
        "print('Eventi =',len(x))\n",
        "print('attribute\\tvalue\\ttype\\n')\n",
        "for i in range(0,num_features,1):\n",
        "  print('{0}\\t{1}\\t{2}\\n'.format(labels_map[i],x[100,i],type(x[100,i])))\n",
        "\n",
        "xtr = np.copy(x)\n",
        "xtrval = np.copy(xval)\n",
        "\n",
        "r_q = ([1,2])\n",
        "xtr = trasformation.prep(original=x, transformed=xtr, dir='forward', index_log=([0,3]), range_quantile=r_q, n_quantiles=10000)\n",
        "xtrval = trasformation.prep(original=xval, transformed=xtrval, dir='forward', index_log=([0,3]), range_quantile=r_q, n_quantiles=10000)\n",
        "\n",
        "xt = torch.tensor(xtr).to('cuda').float()\n",
        "xval = torch.tensor(xtrval).to('cuda').float()"
      ]
    },
    {
      "cell_type": "code",
      "execution_count": 6,
      "metadata": {
        "colab": {
          "base_uri": "https://localhost:8080/",
          "height": 805
        },
        "id": "QEAIdmZvWdix",
        "outputId": "5d3d2be5-0e9d-429a-efc7-f59ac196825e"
      },
      "outputs": [
        {
          "data": {
            "image/png": "[encoded data removed]",
            "text/plain": [
              "<Figure size 720x576 with 4 Axes>"
            ]
          },
          "metadata": {
            "needs_background": "light"
          },
          "output_type": "display_data"
        }
      ],
      "source": [
        "fig, axs = plt.subplots(2, 2, figsize=(10, 8))\n",
        "fig.suptitle(\"Histogram of Dataset Features\")\n",
        "n_bins = 100\n",
        "\n",
        "axs[0, 0].hist(xtr[:, 0], bins=n_bins,log=True)\n",
        "axs[0, 0].set_title(labels_map[0])\n",
        "axs[0, 0].set_xlabel(\"Value\")\n",
        "axs[0, 0].set_ylabel(\"Frequency\")\n",
        "\n",
        "axs[0, 1].hist(xtr[:, 1], bins=n_bins,log=True)\n",
        "axs[0, 1].set_title(labels_map[1])\n",
        "axs[0, 1].set_xlabel(\"Value\")\n",
        "axs[0, 1].set_ylabel(\"Frequency\")\n",
        "\n",
        "axs[1, 0].hist(xtr[:, 2], bins=n_bins,log=True)\n",
        "axs[1, 0].set_title(labels_map[2])\n",
        "axs[1, 0].set_xlabel(\"Value\")\n",
        "axs[1, 0].set_ylabel(\"Frequency\")\n",
        "\n",
        "axs[1, 1].hist(xtr[:, 3], bins=n_bins,log=True)\n",
        "axs[1, 1].set_title(labels_map[3])\n",
        "axs[1, 1].set_xlabel(\"Value\")\n",
        "axs[1, 1].set_ylabel(\"Frequency\")\n",
        "\n",
        "plt.tight_layout()\n",
        "plt.show()\n",
        "fig.savefig('figures/Variables_distribution_transformed.pdf',dpi=190)\n"
      ]
    },
    {
      "cell_type": "code",
      "execution_count": 7,
      "metadata": {
        "colab": {
          "base_uri": "https://localhost:8080/",
          "height": 610
        },
        "id": "qCDxbpDhvkH-",
        "outputId": "7f100065-20ed-4e34-b819-2213a08876bd"
      },
      "outputs": [
        {
          "data": {
            "image/png": "[encoded data removed]",
            "text/plain": [
              "<Figure size 504x432 with 4 Axes>"
            ]
          },
          "metadata": {
            "needs_background": "light"
          },
          "output_type": "display_data"
        }
      ],
      "source": [
        "fig,axs = plt.subplots(2, 2,figsize=(7,6))\n",
        "fig.suptitle(\"Variables distribution\")\n",
        "n_bins = 100\n",
        "\n",
        "axs[0, 0].hist(x[:,0],bins=n_bins, range=(0,1500))\n",
        "axs[0, 0].set_title('Axis [0, 0]')\n",
        "axs[0, 0].set_title('{} [GeV]'.format(labels_map[0]))\n",
        "axs[0, 0].set_label(\"Counts\")\n",
        "axs[0, 0].set_ylim(1,10e4)\n",
        "\n",
        "axs[0, 1].hist(x[:,1],bins=n_bins, range=(-5,5))\n",
        "axs[0, 1].set_title('{} [arb.]'.format(labels_map[1]))\n",
        "axs[0, 1].set_ylim(1,10e4)\n",
        "\n",
        "axs[1, 0].hist(x[:,2],bins=n_bins, range=(-3.30,3.30))\n",
        "axs[1, 0].set_title('{} [rad.]'.format(labels_map[2]))\n",
        "axs[1,0].sharey(axs[0,1])\n",
        "\n",
        "axs[1, 1].hist(x[:,3],bins=n_bins, range=(0,500))\n",
        "axs[1, 1].set_title('{} [GeV]'.format(labels_map[3]))\n",
        "axs[1,1].sharey(axs[0,0])\n",
        "\n",
        "for ax in axs.flat:\n",
        "    ax.set(ylabel='Counts',yscale='log')\n",
        "\n",
        "fig.tight_layout()\n",
        "\n",
        "plt.show()\n",
        "fig.savefig('figures/Variables_distribution.pdf',dpi=190)"
      ]
    },
    {
      "cell_type": "code",
      "execution_count": 8,
      "metadata": {
        "colab": {
          "base_uri": "https://localhost:8080/"
        },
        "id": "0jQxdoj82ILY",
        "outputId": "bebab872-1e4a-47af-c3d2-093afdf10018"
      },
      "outputs": [
        {
          "name": "stdout",
          "output_type": "stream",
          "text": [
            "541760\n"
          ]
        }
      ],
      "source": [
        "num_iterations = 8 #andrà messo a 8 su colab\n",
        "num_features=4 #just for testing\n",
        "\n",
        "base_dist = StandardNormal(shape=[num_features])\n",
        "\n",
        "transforms = []\n",
        "for _ in range(num_iterations):\n",
        "  transforms.append(RandomPermutation(features=num_features))\n",
        "  #transforms.append(ReversePermutation(features=num_features))\n",
        "  transforms.append(MaskedAffineAutoregressiveTransform(features=num_features,hidden_features=128))\n",
        "\n",
        "transform = CompositeTransform(transforms)\n",
        "\n",
        "flow = Flow(transform, base_dist)\n",
        "tp = sum(p.numel() for p in flow.parameters() if p.requires_grad)\n",
        "print(tp)\n",
        "optimizer = optim.Adam(flow.parameters())\n",
        "\n",
        "flow = flow.to('cuda')"
      ]
    },
    {
      "cell_type": "code",
      "execution_count": 9,
      "metadata": {
        "colab": {
          "base_uri": "https://localhost:8080/",
          "height": 1000
        },
        "id": "z6FBUAMSIrSf",
        "outputId": "1d3f87e9-a2f1-434b-dd02-c7b5df3349c9"
      },
      "outputs": [
        {
          "name": "stdout",
          "output_type": "stream",
          "text": [
            "50 tensor(3.2316, device='cuda:0', grad_fn=<NegBackward0>)\n",
            "100 tensor(3.0632, device='cuda:0', grad_fn=<NegBackward0>)\n",
            "150 tensor(2.9834, device='cuda:0', grad_fn=<NegBackward0>)\n",
            "200 tensor(2.9129, device='cuda:0', grad_fn=<NegBackward0>)\n",
            "250 tensor(2.8672, device='cuda:0', grad_fn=<NegBackward0>)\n",
            "300 tensor(2.8587, device='cuda:0', grad_fn=<NegBackward0>)\n",
            "350 tensor(2.8294, device='cuda:0', grad_fn=<NegBackward0>)\n",
            "400 tensor(2.7797, device='cuda:0', grad_fn=<NegBackward0>)\n",
            "450 tensor(2.7694, device='cuda:0', grad_fn=<NegBackward0>)\n",
            "500 tensor(2.7741, device='cuda:0', grad_fn=<NegBackward0>)\n",
            "550 tensor(2.7557, device='cuda:0', grad_fn=<NegBackward0>)\n",
            "600 tensor(2.7746, device='cuda:0', grad_fn=<NegBackward0>)\n",
            "650 tensor(2.7584, device='cuda:0', grad_fn=<NegBackward0>)\n",
            "700 tensor(2.7469, device='cuda:0', grad_fn=<NegBackward0>)\n",
            "750 tensor(2.7628, device='cuda:0', grad_fn=<NegBackward0>)\n",
            "800 tensor(2.7379, device='cuda:0', grad_fn=<NegBackward0>)\n",
            "850 tensor(2.7374, device='cuda:0', grad_fn=<NegBackward0>)\n",
            "900 tensor(2.7403, device='cuda:0', grad_fn=<NegBackward0>)\n",
            "950 tensor(2.7601, device='cuda:0', grad_fn=<NegBackward0>)\n",
            "1000 tensor(2.7314, device='cuda:0', grad_fn=<NegBackward0>)\n"
          ]
        },
        {
          "data": {
            "image/png": "[encoded data removed]",
            "text/plain": [
              "<Figure size 432x288 with 1 Axes>"
            ]
          },
          "metadata": {
            "needs_background": "light"
          },
          "output_type": "display_data"
        }
      ],
      "source": [
        "num_iter = 1000 #andrà messo a 10000 su colab\n",
        "\n",
        "figloss=plt.figure()\n",
        "loss_values = []\n",
        "loss_validation = []\n",
        "for i in range(num_iter):\n",
        "  optimizer.zero_grad()\n",
        "  loss = -flow.log_prob(inputs=xt).mean()\n",
        "  loss_val = -flow.log_prob(inputs=xval).mean()\n",
        "  loss.backward()\n",
        "  optimizer.step()\n",
        "  loss_values.append(loss.cpu().detach().numpy())\n",
        "  loss_validation.append(loss_val.cpu().detach().numpy())\n",
        "  if (i+1) % 50 == 0:\n",
        "    print(i+1,loss)\n",
        "\n",
        "plt.plot(range(1, num_iter+1), loss_values, label='$loss$')\n",
        "plt.plot(range(1, num_iter+1), loss_validation,label='$loss_{val}$')\n",
        "plt.xlabel('epochs')\n",
        "plt.ylabel('loss')\n",
        "plt.yscale('log')\n",
        "plt.xscale('log')\n",
        "plt.legend()\n",
        "plt.show()\n",
        "figloss.savefig('figures/Loss_comparison.pdf',dpi=190)"
      ]
    },
    {
      "cell_type": "code",
      "execution_count": 10,
      "metadata": {
        "colab": {
          "base_uri": "https://localhost:8080/"
        },
        "id": "iOKV0eOHJazW",
        "outputId": "a47ca33f-41d1-47a8-9d5a-43ebece79187"
      },
      "outputs": [],
      "source": [
        "sample = flow.sample(int(len(x)))\n",
        "sample = sample.cpu().detach().numpy()\n",
        "sample = trasformation.prep(original=x, transformed=sample, dir='backward', index_log=([0,3]), range_quantile=r_q, n_quantiles=10000)"
      ]
    },
    {
      "cell_type": "code",
      "execution_count": 11,
      "metadata": {
        "colab": {
          "base_uri": "https://localhost:8080/",
          "height": 610
        },
        "id": "6Jh8UrPUWCu-",
        "outputId": "1be9c6b3-989a-479d-d3a9-957fb014fc9e"
      },
      "outputs": [
        {
          "data": {
            "image/png": "[encoded data removed]",
            "text/plain": [
              "<Figure size 504x432 with 4 Axes>"
            ]
          },
          "metadata": {
            "needs_background": "light"
          },
          "output_type": "display_data"
        }
      ],
      "source": [
        "fig,axs = plt.subplots(2, 2,figsize=(7,6))\n",
        "fig.suptitle(\"Variables distribution\")\n",
        "n_bins = 100\n",
        "\n",
        "axs[0, 0].hist(x[:,0],bins=n_bins, range=(0,1500))\n",
        "axs[0, 0].hist(sample[:,0],bins=n_bins, range=(0,1500),histtype='step')\n",
        "axs[0, 0].set_title('Axis [0, 0]')\n",
        "axs[0, 0].set_title('{} [GeV]'.format(labels_map[0]))\n",
        "axs[0, 0].set_label(\"Counts\")\n",
        "axs[0, 0].set_ylim(1,10e4)\n",
        "\n",
        "axs[0, 1].hist(x[:,1],bins=n_bins, range=(-5,5))\n",
        "axs[0, 1].hist(sample[:,1],bins=n_bins, range=(-5,5),histtype='step')\n",
        "axs[0, 1].set_title('{} [arb.]'.format(labels_map[1]))\n",
        "axs[0, 1].set_ylim(1,10e4)\n",
        "\n",
        "axs[1, 0].hist(x[:,2],bins=n_bins, range=(-3.30,3.30))\n",
        "axs[1, 0].hist(sample[:,2],bins=n_bins, range=(-3.30,3.30),histtype='step')\n",
        "axs[1, 0].set_title('{} [rad.]'.format(labels_map[2]))\n",
        "axs[1,0].sharey(axs[0,1])\n",
        "\n",
        "axs[1, 1].hist(x[:,3],bins=n_bins, range=(0,500))\n",
        "axs[1, 1].hist(sample[:,3],bins=n_bins, range=(0,500),histtype='step')\n",
        "axs[1, 1].set_title('{} [GeV]'.format(labels_map[3]))\n",
        "axs[1,1].sharey(axs[0,0])\n",
        "\n",
        "for ax in axs.flat:\n",
        "    ax.set(ylabel='Counts',yscale='log')\n",
        "\n",
        "fig.tight_layout()\n",
        "\n",
        "plt.show()\n",
        "fig.savefig('figures/Variables_distribution_with_reconstruction.pdf',dpi=190)"
      ]
    },
    {
      "cell_type": "code",
      "execution_count": 12,
      "metadata": {},
      "outputs": [],
      "source": [
        "#training\n",
        "# gaus = flow(data)\n",
        "# unif = erf(gaus)\n",
        "# unif' = unif * 2**N\n",
        "# unif'' = int(unif')\n",
        "# comp = unif''/2**N\n",
        "# gaus' = erfinv(comp)\n",
        "# data' = flow^-1(gaus') ==? data"
      ]
    },
    {
      "cell_type": "code",
      "execution_count": 17,
      "metadata": {},
      "outputs": [
        {
          "ename": "SyntaxError",
          "evalue": "cannot assign to function call here. Maybe you meant '==' instead of '='? (73931623.py, line 37)",
          "output_type": "error",
          "traceback": [
            "\u001b[0;36m  File \u001b[0;32m\"/tmp/ipykernel_4204/73931623.py\"\u001b[0;36m, line \u001b[0;32m37\u001b[0m\n\u001b[0;31m    type(gaus_comp)=w\u001b[0m\n\u001b[0m    ^\u001b[0m\n\u001b[0;31mSyntaxError\u001b[0m\u001b[0;31m:\u001b[0m cannot assign to function call here. Maybe you meant '==' instead of '='?\n"
          ]
        }
      ],
      "source": [
        "\n",
        "###COMPRESSING###\n",
        "N = 20\n",
        "\n",
        "gaus_tensor = flow.transform_to_noise(xt)\n",
        "gaus = (gaus_tensor.cpu().detach().numpy())\n",
        "\n",
        "\n",
        "figgaus=plt.figure()\n",
        "plt.hist(gaus[:,0],bins=100,alpha=0.5, label='$p_T$')\n",
        "plt.hist(gaus[:,1],bins=100,alpha=0.5, label='$\\eta$')\n",
        "plt.hist(gaus[:,2],bins=100,alpha=0.5, label='$\\phi$')\n",
        "plt.hist(gaus[:,3],bins=100,alpha=0.5, label='$mass$')\n",
        "plt.legend()\n",
        "plt.show()\n",
        "figgaus.savefig('figures/Compression_gaus.pdf',dpi=190)\n",
        "\n",
        "\n",
        "unif = scipy.special.erf(gaus)\n",
        "unif = unif * 2**N\n",
        "unif = unif.astype(int)\n",
        "comp = unif/2**(N)   #compression\n",
        "\n",
        "figunif=plt.figure()\n",
        "plt.hist(comp[:,0],bins=100,alpha=0.5, label='$p_T$')\n",
        "plt.hist(comp[:,1],bins=100,alpha=0.5, label='$\\eta$')\n",
        "plt.hist(comp[:,2],bins=100,alpha=0.5, label='$\\phi$')\n",
        "plt.hist(comp[:,3],bins=100,alpha=0.5, label='$mass$')\n",
        "plt.legend()\n",
        "plt.show()\n",
        "figunif.savefig('figures/Compression_unif.pdf',dpi=190)\n",
        "\n",
        "gaus_comp = scipy.special.erfinv(comp)\n",
        "\n",
        "print(type(gaus_comp))\n",
        "w=type(gaus_comp)\n",
        "gaus_comp = InfEraser.inf_eraser(gaus_comp)\n",
        "type(gaus_comp)=w\n",
        "print(type(gaus_comp))\n",
        "\n",
        "\n",
        "'''#defining the list of inf values\n",
        "inf_index_max = []\n",
        "inf_index_min = []\n",
        "\n",
        "###searching for inf values: \n",
        "for j in range(0,4):\n",
        "    for i in range(0,len(gaus_comp),1):\n",
        "        if gaus_comp[i,j] == np.inf:\n",
        "            gaus_comp[i,j] = 0      #replace inf with 0\n",
        "            inf_index_max.append(([i,j]))   #save index of inf values\n",
        "\n",
        "        if gaus_comp[i,j] == -np.inf:\n",
        "            inf_index_min.append(([i,j]))   #save index of -inf values\n",
        "            gaus_comp[i,j] = 0    #replace -inf with 0\n",
        "\n",
        "\n",
        "if inf_index_max:  #if there are inf values\n",
        "    max = np.max(gaus_comp,axis=0)   #max value of each column\n",
        "    for i in range(0,len(inf_index_max),1):  #for each inf value\n",
        "        gaus_comp[inf_index_max[i][0],inf_index_max[i][1]] = max[inf_index_max[i][1]]      #replace inf with max value of the column\n",
        "\n",
        "if inf_index_min:\n",
        "    min = np.min(gaus_comp,axis=0)     #min value of each column\n",
        "    for i in range(0,len(inf_index_min),1):   #for each -inf value\n",
        "        gaus_comp[inf_index_min[i][0],inf_index_min[i][1]] = min[inf_index_min[i][1]]       #replace -inf with min value of the column\n",
        "'''\n",
        "\n",
        "\n",
        "\n",
        "gaus_tensor_comp = torch.tensor(gaus_comp).to('cuda').float()\n",
        "x_tensor_comp, _ = flow._transform.inverse(gaus_tensor_comp)\n",
        "xcomp = x_tensor_comp.cpu().detach().numpy()\n",
        "\n",
        "xcomp = trasformation.prep(original=x, transformed=xcomp, dir='backward', index_log=([0,3]), range_quantile=r_q, n_quantiles=10000)\n",
        "\n"
      ]
    },
    {
      "cell_type": "code",
      "execution_count": null,
      "metadata": {},
      "outputs": [
        {
          "data": {
            "image/png": "[encoded data removed]",
            "text/plain": [
              "<Figure size 720x576 with 4 Axes>"
            ]
          },
          "metadata": {
            "needs_background": "light"
          },
          "output_type": "display_data"
        }
      ],
      "source": [
        "fig, axs = plt.subplots(2, 2, figsize=(10, 8))\n",
        "fig.suptitle(\"Histogram of Variables\")\n",
        "\n",
        "n_bins = 100\n",
        "\n",
        "axs[0, 0].hist(x[:, 0], bins=n_bins, label='Original', alpha=0.5, log=True)\n",
        "axs[0, 0].hist(xcomp[:, 0], bins=n_bins, label='Compressed', alpha=0.5,histtype='step')\n",
        "axs[0, 0].set_title(labels_map[0])\n",
        "axs[0, 0].set_xlabel(\"Value\")\n",
        "axs[0, 0].set_ylabel(\"Frequency\")\n",
        "axs[0, 0].set_ylim(1,10e4)\n",
        "axs[0, 0].legend()\n",
        "\n",
        "axs[0, 1].hist(x[:, 1], bins=n_bins, label='Original', alpha=0.5, log=True)\n",
        "axs[0, 1].hist(xcomp[:, 1], bins=n_bins, label='Compressed', alpha=0.5,histtype='step')\n",
        "axs[0, 1].set_title(labels_map[1])\n",
        "axs[0, 1].set_xlabel(\"Value\")\n",
        "axs[0, 1].set_ylabel(\"Frequency\")\n",
        "axs[0, 1].set_ylim(1,10e4)\n",
        "axs[0, 1].legend()\n",
        "\n",
        "axs[1, 0].hist(x[:, 2], bins=n_bins, label='Original', alpha=0.5, log=True)\n",
        "axs[1, 0].hist(xcomp[:, 2], bins=n_bins, label='Compressed', alpha=0.5,histtype='step')\n",
        "axs[1, 0].set_title(labels_map[2])\n",
        "axs[1, 0].set_xlabel(\"Value\")\n",
        "axs[1, 0].set_ylabel(\"Frequency\")\n",
        "axs[1, 0].legend()\n",
        "axs[1,0].sharey(axs[0,1])\n",
        "\n",
        "axs[1, 1].hist(x[:, 3], bins=n_bins, label='Original', alpha=0.5, log=True)\n",
        "axs[1, 1].hist(xcomp[:, 3], bins=n_bins, label='Compressed', alpha=0.5,histtype='step')\n",
        "axs[1, 1].set_title(labels_map[3])\n",
        "axs[1, 1].set_xlabel(\"Value\")\n",
        "axs[1, 1].set_ylabel(\"Frequency\")\n",
        "axs[1, 1].legend()\n",
        "axs[1,1].sharey(axs[0,0])\n",
        "\n",
        "plt.tight_layout()\n",
        "plt.show()\n",
        "fig.savefig('figures/Variables_comparison.pdf', dpi=190)\n"
      ]
    },
    {
      "cell_type": "code",
      "execution_count": null,
      "metadata": {},
      "outputs": [],
      "source": [
        "with open('/home/unipi/i.ditota/Desktop/dati/input.txt', 'w') as input:\n",
        "    for i in range(len(x)):\n",
        "        input.write(' '.join(str(x[i, j]) for j in range(x.shape[1])) + \"\\n\")\n",
        "\n",
        "with open('/home/unipi/i.ditota/Desktop/dati/output.txt', 'w') as output:\n",
        "    for i in range(len(x)):\n",
        "        output.write(' '.join(str(xcomp[i, j]) for j in range(xcomp.shape[1])) + \"\\n\")\n",
        "\n",
        "with open('/home/unipi/i.ditota/Desktop/dati/compressed.txt', 'w') as compressed:\n",
        "    for i in range(len(x)):\n",
        "        compressed.write(' '.join(str(unif[i, j]) for j in range(unif.shape[1])) + \"\\n\")\n"
      ]
    },
    {
      "cell_type": "code",
      "execution_count": null,
      "metadata": {},
      "outputs": [
        {
          "name": "stdout",
          "output_type": "stream",
          "text": [
            "Input size = 120 (29551, 4)\n",
            "Output size = 472936 (29551, 4)\n",
            "Compressed size = 945752 (29551, 4)\n",
            "Compression ratio = 0.0001268831575296695\n"
          ]
        }
      ],
      "source": [
        " ###Come mai non va??\n",
        "\n",
        "size_input = sys.getsizeof(x)\n",
        "size_output = sys.getsizeof(xcomp)\n",
        "size_compressed = sys.getsizeof(unif)\n",
        "\n",
        "print('Input size =',size_input,x.shape)\n",
        "print('Output size =',size_output,xcomp.shape)\n",
        "print('Compressed size =',size_compressed,unif.shape)\n",
        "\n",
        "print('Compression ratio =',size_input/size_compressed)"
      ]
    },
    {
      "cell_type": "code",
      "execution_count": null,
      "metadata": {},
      "outputs": [
        {
          "name": "stdout",
          "output_type": "stream",
          "text": [
            "Size of input file = 1.6123056411743164 MB\n",
            "Size of output file = 1.1358280181884766 MB\n",
            "Size of compressed file = 0.8547916412353516 MB\n",
            "Compression ratio = 1.8861972478394848\n"
          ]
        }
      ],
      "source": [
        "\n",
        "size_input = stat('/home/unipi/i.ditota/Desktop/dati/input.txt').st_size\n",
        "print('Size of input file =',size_input/(1024*1024),'MB')\n",
        "\n",
        "size_output = stat('/home/unipi/i.ditota/Desktop/dati/output.txt').st_size\n",
        "print('Size of output file =',size_output/(1024*1024),'MB')\n",
        "\n",
        "size_compressed = stat('/home/unipi/i.ditota/Desktop/dati/compressed.txt').st_size\n",
        "print('Size of compressed file =',size_compressed/(1024*1024),'MB')\n",
        "\n",
        "print('Compression ratio =',size_input/size_compressed)"
      ]
    },
    {
      "cell_type": "code",
      "execution_count": null,
      "metadata": {},
      "outputs": [
        {
          "name": "stdout",
          "output_type": "stream",
          "text": [
            "[0.5394464005298834, 0.4458491735846671, 0.3519126507995594, 0.2548262403093477, 0.1704023170739495, 0.11243063176020415, 0.07382262648881104, 0.04903627811874103, 0.03176448675553482, 0.020884543339895468, 0.014231360117095759, 0.009928234703798309, 0.007222233775216135, 0.005225360130076916, 0.004286939100873646, 0.0031770642828990833, 0.0023054982165149193, 0.0023979790395705987, 0.0021861905113190984, 0.0024667591491971444, 0.0016790721108556827, 0.0019521911023635736, 0.0023390283950937923, 0.002402182547591317, 0.0019782894771489196, 0.0018272961460358127, 0.002061279080787146, 0.0015762391015015744, 0.001825863624680169, 0.0030929004044576254, 0.0023814587544326348, 0.0023494496265479793, 0.0015756256859078964, 0.0016054006173972753, 0.0017720620382470815, 0.0013703832484116762, 0.0024894893882015973, 0.0012567849709480955, 0.003034243727067076]\n"
          ]
        },
        {
          "data": {
            "image/png": "[encoded data removed]",
            "text/plain": [
              "<Figure size 432x288 with 1 Axes>"
            ]
          },
          "metadata": {
            "needs_background": "light"
          },
          "output_type": "display_data"
        }
      ],
      "source": [
        "RR = []\n",
        "residui = []\n",
        "\n",
        "modx = np.sum(np.abs(x))\n",
        "\n",
        "for k in range(1,40):\n",
        "\n",
        "    N = k\n",
        "\n",
        "    gaus_tensor = flow.transform_to_noise(xt)\n",
        "    gaus = (gaus_tensor.cpu().detach().numpy())\n",
        "\n",
        "    unif = scipy.special.erf(gaus)\n",
        "    unif = unif * 2**N\n",
        "    unif = unif.astype(int)\n",
        "    comp = unif/2**(N)   #compression\n",
        "    gaus_comp = scipy.special.erfinv(comp)\n",
        "    gaus_comp = InfEraser.inf_eraser(gaus_comp)\n",
        "\n",
        "\n",
        "    gaus_tensor_comp = torch.tensor(gaus_comp).to('cuda').float()\n",
        "    x_tensor_comp, _ = flow._transform.inverse(gaus_tensor_comp)\n",
        "    xcomp = x_tensor_comp.cpu().detach().numpy()\n",
        "\n",
        "    xcomp = trasformation.prep(original=x, transformed=xcomp, dir='backward', index_log=([0,3]), range_quantile=r_q, n_quantiles=10000)\n",
        "\n",
        "    with open('/home/unipi/i.ditota/Desktop/dati/input.txt', 'w') as input:\n",
        "        for i in range(len(x)):\n",
        "            input.write(' '.join(str(x[i, j]) for j in range(x.shape[1])) + \"\\n\")\n",
        "\n",
        "    with open('/home/unipi/i.ditota/Desktop/dati/output.txt', 'w') as output:\n",
        "        for i in range(len(x)):\n",
        "            output.write(' '.join(str(xcomp[i, j]) for j in range(xcomp.shape[1])) + \"\\n\")\n",
        "\n",
        "    with open('/home/unipi/i.ditota/Desktop/dati/compressed.txt', 'w') as compressed:\n",
        "        for i in range(len(x)):\n",
        "            compressed.write(' '.join(str(unif[i, j]) for j in range(unif.shape[1])) + \"\\n\")\n",
        "\n",
        "    size_input = stat('/home/unipi/i.ditota/Desktop/dati/input.txt').st_size\n",
        "    size_output = stat('/home/unipi/i.ditota/Desktop/dati/output.txt').st_size\n",
        "    size_compressed = stat('/home/unipi/i.ditota/Desktop/dati/compressed.txt').st_size\n",
        "    \n",
        "    r_k = size_input/size_compressed\n",
        "    RR.append(r_k)\n",
        "\n",
        "    absresidui_k = np.sum(np.abs(x-xcomp))/modx\n",
        "    residui.append(absresidui_k)\n",
        "\n",
        "print(residui)\n",
        "\n",
        "\n",
        "\n",
        "figratio=plt.figure()\n",
        "#plt.plot(range(1,k+1),RR,label='$R=input/compressed$')\n",
        "plt.plot(range(1,k+1),residui,label='residui relativi')\n",
        "plt.xlabel('N')\n",
        "plt.ylabel('R')\n",
        "plt.legend()\n",
        "plt.show()\n",
        "\n",
        "figratio.savefig('figures/Compression_ratio.pdf',dpi=190)\n",
        "    \n",
        "\n",
        "\n"
      ]
    },
    {
      "cell_type": "code",
      "execution_count": null,
      "metadata": {},
      "outputs": [
        {
          "name": "stdout",
          "output_type": "stream",
          "text": [
            "0\n",
            "52\n",
            "52\n"
          ]
        }
      ],
      "source": [
        "print(np.isnan(x).sum())\n",
        "print(np.isnan(xcomp).sum())\n",
        "print((np.isnan(x-xcomp).sum()))\n",
        "#print(np.abs(x-xcomp))\n",
        "#print((x-xcomp)[:78,:])\n",
        "#print((np.abs(x[:77,:]-xcomp[:77,:])).sum())"
      ]
    }
  ],
  "metadata": {
    "accelerator": "GPU",
    "colab": {
      "gpuType": "A100",
      "machine_shape": "hm",
      "provenance": []
    },
    "kernelspec": {
      "display_name": "Python 3",
      "name": "python3"
    },
    "language_info": {
      "codemirror_mode": {
        "name": "ipython",
        "version": 3
      },
      "file_extension": ".py",
      "mimetype": "text/x-python",
      "name": "python",
      "nbconvert_exporter": "python",
      "pygments_lexer": "ipython3",
      "version": "3.10.12"
    }
  },
  "nbformat": 4,
  "nbformat_minor": 0
}
