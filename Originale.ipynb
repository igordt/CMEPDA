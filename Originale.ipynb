{
  "cells": [
    {
      "cell_type": "code",
      "execution_count": 1,
      "metadata": {
        "colab": {
          "base_uri": "https://localhost:8080/"
        },
        "id": "jwDlIleWug4_",
        "outputId": "21400cff-4d87-4af6-e94e-8bdf247fa18c"
      },
      "outputs": [
        {
          "name": "stdout",
          "output_type": "stream",
          "text": [
            "figures  Originale.ipynb  papers  README.md\n"
          ]
        },
        {
          "name": "stdout",
          "output_type": "stream",
          "text": [
            "Defaulting to user installation because normal site-packages is not writeable\n",
            "Requirement already satisfied: nflows in /home/unipi/i.ditota/.local/lib/python3.10/site-packages (0.14)\n",
            "Requirement already satisfied: numpy in /usr/lib/python3/dist-packages (from nflows) (1.21.5)\n",
            "Requirement already satisfied: torch in /home/unipi/i.ditota/.local/lib/python3.10/site-packages (from nflows) (2.1.2)\n",
            "Requirement already satisfied: tqdm in /home/unipi/i.ditota/.local/lib/python3.10/site-packages (from nflows) (4.66.1)\n",
            "Requirement already satisfied: tensorboard in /home/unipi/i.ditota/.local/lib/python3.10/site-packages (from nflows) (2.15.1)\n",
            "Requirement already satisfied: matplotlib in /usr/lib/python3/dist-packages (from nflows) (3.5.1)\n",
            "Requirement already satisfied: grpcio>=1.48.2 in /home/unipi/i.ditota/.local/lib/python3.10/site-packages (from tensorboard->nflows) (1.60.0)\n",
            "Requirement already satisfied: markdown>=2.6.8 in /home/unipi/i.ditota/.local/lib/python3.10/site-packages (from tensorboard->nflows) (3.5.2)\n",
            "Requirement already satisfied: protobuf<4.24,>=3.19.6 in /home/unipi/i.ditota/.local/lib/python3.10/site-packages (from tensorboard->nflows) (4.23.4)\n",
            "Requirement already satisfied: requests<3,>=2.21.0 in /usr/lib/python3/dist-packages (from tensorboard->nflows) (2.25.1)\n",
            "Requirement already satisfied: google-auth-oauthlib<2,>=0.5 in /home/unipi/i.ditota/.local/lib/python3.10/site-packages (from tensorboard->nflows) (1.2.0)\n",
            "Requirement already satisfied: setuptools>=41.0.0 in /usr/lib/python3/dist-packages (from tensorboard->nflows) (59.6.0)\n",
            "Requirement already satisfied: absl-py>=0.4 in /home/unipi/i.ditota/.local/lib/python3.10/site-packages (from tensorboard->nflows) (2.1.0)\n",
            "Requirement already satisfied: tensorboard-data-server<0.8.0,>=0.7.0 in /home/unipi/i.ditota/.local/lib/python3.10/site-packages (from tensorboard->nflows) (0.7.2)\n",
            "Requirement already satisfied: google-auth<3,>=1.6.3 in /home/unipi/i.ditota/.local/lib/python3.10/site-packages (from tensorboard->nflows) (2.27.0)\n",
            "Requirement already satisfied: werkzeug>=1.0.1 in /home/unipi/i.ditota/.local/lib/python3.10/site-packages (from tensorboard->nflows) (3.0.1)\n",
            "Requirement already satisfied: six>1.9 in /usr/lib/python3/dist-packages (from tensorboard->nflows) (1.16.0)\n",
            "Requirement already satisfied: nvidia-cuda-runtime-cu12==12.1.105 in /home/unipi/i.ditota/.local/lib/python3.10/site-packages (from torch->nflows) (12.1.105)\n",
            "Requirement already satisfied: nvidia-cusparse-cu12==12.1.0.106 in /home/unipi/i.ditota/.local/lib/python3.10/site-packages (from torch->nflows) (12.1.0.106)\n",
            "Requirement already satisfied: nvidia-cusolver-cu12==11.4.5.107 in /home/unipi/i.ditota/.local/lib/python3.10/site-packages (from torch->nflows) (11.4.5.107)\n",
            "Requirement already satisfied: nvidia-nvtx-cu12==12.1.105 in /home/unipi/i.ditota/.local/lib/python3.10/site-packages (from torch->nflows) (12.1.105)\n",
            "Requirement already satisfied: nvidia-cuda-nvrtc-cu12==12.1.105 in /home/unipi/i.ditota/.local/lib/python3.10/site-packages (from torch->nflows) (12.1.105)\n",
            "Requirement already satisfied: nvidia-cublas-cu12==12.1.3.1 in /home/unipi/i.ditota/.local/lib/python3.10/site-packages (from torch->nflows) (12.1.3.1)\n",
            "Requirement already satisfied: nvidia-nccl-cu12==2.18.1 in /home/unipi/i.ditota/.local/lib/python3.10/site-packages (from torch->nflows) (2.18.1)\n",
            "Requirement already satisfied: nvidia-cudnn-cu12==8.9.2.26 in /home/unipi/i.ditota/.local/lib/python3.10/site-packages (from torch->nflows) (8.9.2.26)\n",
            "Requirement already satisfied: jinja2 in /usr/lib/python3/dist-packages (from torch->nflows) (3.0.3)\n",
            "Requirement already satisfied: filelock in /usr/lib/python3/dist-packages (from torch->nflows) (3.6.0)\n",
            "Requirement already satisfied: triton==2.1.0 in /home/unipi/i.ditota/.local/lib/python3.10/site-packages (from torch->nflows) (2.1.0)\n",
            "Requirement already satisfied: nvidia-cufft-cu12==11.0.2.54 in /home/unipi/i.ditota/.local/lib/python3.10/site-packages (from torch->nflows) (11.0.2.54)\n",
            "Requirement already satisfied: nvidia-curand-cu12==10.3.2.106 in /home/unipi/i.ditota/.local/lib/python3.10/site-packages (from torch->nflows) (10.3.2.106)\n",
            "Requirement already satisfied: typing-extensions in /home/unipi/i.ditota/.local/lib/python3.10/site-packages (from torch->nflows) (4.4.0)\n",
            "Requirement already satisfied: nvidia-cuda-cupti-cu12==12.1.105 in /home/unipi/i.ditota/.local/lib/python3.10/site-packages (from torch->nflows) (12.1.105)\n",
            "Requirement already satisfied: fsspec in /home/unipi/i.ditota/.local/lib/python3.10/site-packages (from torch->nflows) (2023.12.2)\n",
            "Requirement already satisfied: sympy in /usr/lib/python3/dist-packages (from torch->nflows) (1.9)\n",
            "Requirement already satisfied: networkx in /usr/lib/python3/dist-packages (from torch->nflows) (2.4)\n",
            "Requirement already satisfied: nvidia-nvjitlink-cu12 in /home/unipi/i.ditota/.local/lib/python3.10/site-packages (from nvidia-cusolver-cu12==11.4.5.107->torch->nflows) (12.3.101)\n",
            "Requirement already satisfied: cachetools<6.0,>=2.0.0 in /home/unipi/i.ditota/.local/lib/python3.10/site-packages (from google-auth<3,>=1.6.3->tensorboard->nflows) (5.3.2)\n",
            "Requirement already satisfied: pyasn1-modules>=0.2.1 in /usr/lib/python3/dist-packages (from google-auth<3,>=1.6.3->tensorboard->nflows) (0.2.1)\n",
            "Requirement already satisfied: rsa<5,>=3.1.4 in /home/unipi/i.ditota/.local/lib/python3.10/site-packages (from google-auth<3,>=1.6.3->tensorboard->nflows) (4.9)\n",
            "Requirement already satisfied: requests-oauthlib>=0.7.0 in /home/unipi/i.ditota/.local/lib/python3.10/site-packages (from google-auth-oauthlib<2,>=0.5->tensorboard->nflows) (1.3.1)\n",
            "Requirement already satisfied: MarkupSafe>=2.1.1 in /home/unipi/i.ditota/.local/lib/python3.10/site-packages (from werkzeug>=1.0.1->tensorboard->nflows) (2.1.4)\n",
            "Requirement already satisfied: oauthlib>=3.0.0 in /usr/lib/python3/dist-packages (from requests-oauthlib>=0.7.0->google-auth-oauthlib<2,>=0.5->tensorboard->nflows) (3.2.0)\n",
            "Requirement already satisfied: pyasn1>=0.1.3 in /usr/lib/python3/dist-packages (from rsa<5,>=3.1.4->google-auth<3,>=1.6.3->tensorboard->nflows) (0.4.8)\n",
            "Defaulting to user installation because normal site-packages is not writeable\n",
            "Requirement already satisfied: nvitop in /home/unipi/i.ditota/.local/lib/python3.10/site-packages (1.3.2)\n",
            "Requirement already satisfied: psutil>=5.6.6 in /usr/lib/python3/dist-packages (from nvitop) (5.9.0)\n",
            "Requirement already satisfied: termcolor>=1.0.0 in /home/unipi/i.ditota/.local/lib/python3.10/site-packages (from nvitop) (2.4.0)\n",
            "Requirement already satisfied: nvidia-ml-py<12.536.0a0,>=11.450.51 in /home/unipi/i.ditota/.local/lib/python3.10/site-packages (from nvitop) (12.535.133)\n",
            "Requirement already satisfied: cachetools>=1.0.1 in /home/unipi/i.ditota/.local/lib/python3.10/site-packages (from nvitop) (5.3.2)\n"
          ]
        }
      ],
      "source": [
        "file_id_train = \"17LdtNKkpOEpk-l_EKX4BwtGUm0ML6vmT\" #links = 2 (472827)events\n",
        "file_id_val = \"1WC-TS1pel_lUT7bPenVyDXKEQjxjAmlg\" #links = 1 (920599)events\n",
        "\n",
        "#!gdown https://drive.google.com/uc?id={file_id_train}\n",
        "#!gdown https://drive.google.com/uc?id={file_id_val}\n",
        "!ls\n",
        "\n",
        "#!pip install nflows"
      ]
    },
    {
      "cell_type": "code",
      "execution_count": 3,
      "metadata": {
        "id": "XeWj117PLm-R"
      },
      "outputs": [],
      "source": [
        "#training\n",
        "# gaus = flow(data)\n",
        "# unif = erf(gaus)\n",
        "# unif' = unif * 2**N\n",
        "# unif'' = int(unif')\n",
        "# comp = unif''/2**N\n",
        "# gaus' = erfinv(comp)\n",
        "# data' = flow^-1(gaus') ==? data"
      ]
    },
    {
      "cell_type": "code",
      "execution_count": 1,
      "metadata": {
        "id": "TVqwByBl5nam"
      },
      "outputs": [],
      "source": [
        "from nflows.flows.base import Flow\n",
        "from nflows.distributions.normal import StandardNormal\n",
        "from nflows.transforms.base import CompositeTransform\n",
        "from nflows.transforms.autoregressive import MaskedAffineAutoregressiveTransform\n",
        "from nflows.transforms.permutations import ReversePermutation\n",
        "\n",
        "from torch import optim\n",
        "from sklearn import preprocessing\n",
        "import scipy.special\n",
        "import numpy as np\n",
        "import matplotlib.pyplot as plt\n",
        "import torch\n",
        "\n",
        "labels_map = {\n",
        "    0: \"$p_T$\",\n",
        "    1: \"$\\eta$\",\n",
        "    2: \"$\\phi$\",\n",
        "    3: \"mass\",\n",
        "    4: \"JetArea\",\n",
        "    5: \"ChargedHadronEnergy\",\n",
        "    6: \"NeutralHadronEnergy\",\n",
        "    7: \"PhotonEnergy\",\n",
        "    8: \"ElectronEnergy\",\n",
        "    9: \"MuonEnergy\",\n",
        "    10: \"HFHadronHadronEnergy\",\n",
        "    11: \"HFEMEnergy\",\n",
        "    12: \"ChargedHadronMultiplicity\",\n",
        "    13: \"NeutralHadronMultiplicity\",\n",
        "    14: \"PhotonMultiplicity\",\n",
        "    15: \"ElectronMultiplicity\",\n",
        "    16: \"MuonMultiplicity\",\n",
        "    17: \"HFHadronMultiplicity\",\n",
        "    18: \"HFEMMultiplicity\",\n",
        "    19: \"ChargedEmEnergy\",\n",
        "    20: \"ChargedMuEnergy\",\n",
        "    21: \"NeutralEmEnergy\",\n",
        "    22: \"ChargedMultiplicity\",\n",
        "    23: \"NeutralMultiplicity\",\n",
        "}\n",
        "num_features = len(labels_map)\n",
        "\n",
        "index_int = np.append(np.arange(12,19),[22,23])\n",
        "index_float = np.append(np.arange(0,12),np.arange(19,22))"
      ]
    },
    {
      "cell_type": "code",
      "execution_count": 37,
      "metadata": {
        "colab": {
          "base_uri": "https://localhost:8080/"
        },
        "id": "TTR7jb9mchWy",
        "outputId": "85a59844-0df8-45bc-901a-38679aed4142"
      },
      "outputs": [
        {
          "name": "stdout",
          "output_type": "stream",
          "text": [
            "472827\n"
          ]
        }
      ],
      "source": [
        "x = np.loadtxt(\"/home/unipi/i.ditota/Desktop/dataset_piccolo.txt\", delimiter=',')\n",
        "xval = np.loadtxt(\"/home/unipi/i.ditota/Desktop/dataset.txt\", delimiter=',')\n",
        "L=len(x)\n",
        "print(L)"
      ]
    },
    {
      "cell_type": "code",
      "execution_count": 38,
      "metadata": {},
      "outputs": [
        {
          "name": "stdout",
          "output_type": "stream",
          "text": [
            "Eventi = 118206\n",
            "attribute\tvalue\ttype\n",
            "\n",
            "$p_T$\t15.8641204834\t<class 'numpy.float64'>\n",
            "\n",
            "$\\eta$\t-2.97655129433\t<class 'numpy.float64'>\n",
            "\n",
            "$\\phi$\t-1.19218158722\t<class 'numpy.float64'>\n",
            "\n",
            "mass\t4.52637481689\t<class 'numpy.float64'>\n",
            "\n"
          ]
        }
      ],
      "source": [
        "###LOG SU 0 E 3,STD SU TUTTE E QUATTRO LE FEATURES E QUANTILE SU 1,2\n",
        "x = x[:int(L/4),:] #da mettere al massimo a 8 in colab\n",
        "xval = xval[:len(x),:]\n",
        "\n",
        "num_features = 4\n",
        "x = x[:,0:num_features]\n",
        "xval = xval[:,0:num_features]\n",
        "\n",
        "print('Eventi =',len(x))\n",
        "print('attribute\\tvalue\\ttype\\n')\n",
        "for i in range(0,num_features,1):\n",
        "  print('{0}\\t{1}\\t{2}\\n'.format(labels_map[i],x[100,i],type(x[100,i])))\n",
        "\n",
        "xtr = np.copy(x)\n",
        "xtrval = np.copy(xval)\n",
        "\n",
        "\n",
        "xtr[:,0] = np.log(10 + x[:,0])\n",
        "xtrval[:,0] = np.log(10 + xval[:,0])\n",
        "xtr[:,3] = np.log(10 + x[:,3])\n",
        "xtrval[:,3] = np.log(10 + xval[:,3])\n",
        "\n",
        "scaler = preprocessing.StandardScaler().fit(xtr)\n",
        "xtr = scaler.transform(xtr)\n",
        "\n",
        "\n",
        "scaler_val = preprocessing.StandardScaler().fit(xtrval)\n",
        "xtrval = scaler_val.transform(xtrval)\n",
        "\n",
        "\n",
        "quantile = preprocessing.QuantileTransformer(n_quantiles=10000,output_distribution='normal').fit(xtr[:,1:3])\n",
        "xtr[:,1:3] = quantile.transform(xtr[:,1:3])\n",
        "\n",
        "\n",
        "quantile_val = preprocessing.QuantileTransformer(n_quantiles=10000,output_distribution='normal').fit(xtrval[:,1:3])\n",
        "xtrval[:,1:3] = quantile_val.transform(xtrval[:,1:3])\n",
        "\n",
        "xt = torch.tensor(xtr).to('cuda').float()\n",
        "xval = torch.tensor(xtrval).to('cuda').float()"
      ]
    },
    {
      "cell_type": "code",
      "execution_count": 31,
      "metadata": {
        "colab": {
          "base_uri": "https://localhost:8080/",
          "height": 805
        },
        "id": "QEAIdmZvWdix",
        "outputId": "5d3d2be5-0e9d-429a-efc7-f59ac196825e"
      },
      "outputs": [
        {
          "data": {
            "image/png": "[encoded data removed]",
            "text/plain": [
              "<Figure size 720x576 with 4 Axes>"
            ]
          },
          "metadata": {
            "needs_background": "light"
          },
          "output_type": "display_data"
        }
      ],
      "source": [
        "fig, axs = plt.subplots(2, 2, figsize=(10, 8))\n",
        "fig.suptitle(\"Histogram of Dataset Features\")\n",
        "n_bins = 100\n",
        "\n",
        "axs[0, 0].hist(xtr[:, 0], bins=n_bins,log=True)\n",
        "axs[0, 0].set_title(labels_map[0])\n",
        "axs[0, 0].set_xlabel(\"Value\")\n",
        "axs[0, 0].set_ylabel(\"Frequency\")\n",
        "\n",
        "axs[0, 1].hist(xtr[:, 1], bins=n_bins,log=True)\n",
        "axs[0, 1].set_title(labels_map[1])\n",
        "axs[0, 1].set_xlabel(\"Value\")\n",
        "axs[0, 1].set_ylabel(\"Frequency\")\n",
        "\n",
        "axs[1, 0].hist(xtr[:, 2], bins=n_bins,log=True)\n",
        "axs[1, 0].set_title(labels_map[2])\n",
        "axs[1, 0].set_xlabel(\"Value\")\n",
        "axs[1, 0].set_ylabel(\"Frequency\")\n",
        "\n",
        "axs[1, 1].hist(xtr[:, 3], bins=n_bins,log=True)\n",
        "axs[1, 1].set_title(labels_map[3])\n",
        "axs[1, 1].set_xlabel(\"Value\")\n",
        "axs[1, 1].set_ylabel(\"Frequency\")\n",
        "\n",
        "plt.tight_layout()\n",
        "plt.show()\n",
        "fig.savefig('figures/Variables_distribution_transformed.pdf',dpi=190)\n"
      ]
    },
    {
      "cell_type": "code",
      "execution_count": 8,
      "metadata": {
        "colab": {
          "base_uri": "https://localhost:8080/",
          "height": 610
        },
        "id": "qCDxbpDhvkH-",
        "outputId": "7f100065-20ed-4e34-b819-2213a08876bd"
      },
      "outputs": [
        {
          "data": {
            "image/png": "[encoded data removed]",
            "text/plain": [
              "<Figure size 504x432 with 4 Axes>"
            ]
          },
          "metadata": {
            "needs_background": "light"
          },
          "output_type": "display_data"
        }
      ],
      "source": [
        "fig,axs = plt.subplots(2, 2,figsize=(7,6))\n",
        "fig.suptitle(\"Variables distribution\")\n",
        "n_bins = 100\n",
        "\n",
        "axs[0, 0].hist(x[:,0],bins=n_bins, range=(0,1500))\n",
        "axs[0, 0].set_title('Axis [0, 0]')\n",
        "axs[0, 0].set_title('{} [GeV]'.format(labels_map[0]))\n",
        "axs[0, 0].set_label(\"Counts\")\n",
        "axs[0, 0].set_ylim(1,10e4)\n",
        "\n",
        "axs[0, 1].hist(x[:,1],bins=n_bins, range=(-5,5))\n",
        "axs[0, 1].set_title('{} [arb.]'.format(labels_map[1]))\n",
        "axs[0, 1].set_ylim(1,10e4)\n",
        "\n",
        "axs[1, 0].hist(x[:,2],bins=n_bins, range=(-3.30,3.30))\n",
        "axs[1, 0].set_title('{} [rad.]'.format(labels_map[2]))\n",
        "axs[1,0].sharey(axs[0,1])\n",
        "\n",
        "axs[1, 1].hist(x[:,3],bins=n_bins, range=(0,500))\n",
        "axs[1, 1].set_title('{} [GeV]'.format(labels_map[3]))\n",
        "axs[1,1].sharey(axs[0,0])\n",
        "\n",
        "for ax in axs.flat:\n",
        "    ax.set(ylabel='Counts',yscale='log')\n",
        "\n",
        "fig.tight_layout()\n",
        "\n",
        "plt.show()\n",
        "fig.savefig('figures/Variables_distribution.pdf',dpi=190)"
      ]
    },
    {
      "cell_type": "code",
      "execution_count": 39,
      "metadata": {
        "colab": {
          "base_uri": "https://localhost:8080/"
        },
        "id": "0jQxdoj82ILY",
        "outputId": "bebab872-1e4a-47af-c3d2-093afdf10018"
      },
      "outputs": [
        {
          "name": "stdout",
          "output_type": "stream",
          "text": [
            "139840\n"
          ]
        }
      ],
      "source": [
        "num_iterations = 8 #andrà messo a 8 su colab\n",
        "num_features=4 #just for testing\n",
        "\n",
        "base_dist = StandardNormal(shape=[num_features])\n",
        "\n",
        "transforms = []\n",
        "for _ in range(num_iterations):\n",
        "  transforms.append(ReversePermutation(features=num_features))\n",
        "  transforms.append(MaskedAffineAutoregressiveTransform(features=num_features,hidden_features=64))\n",
        "\n",
        "transform = CompositeTransform(transforms)\n",
        "\n",
        "flow = Flow(transform, base_dist)\n",
        "tp = sum(p.numel() for p in flow.parameters() if p.requires_grad)\n",
        "print(tp)\n",
        "optimizer = optim.Adam(flow.parameters())\n",
        "\n",
        "flow = flow.to('cuda')"
      ]
    },
    {
      "cell_type": "code",
      "execution_count": 41,
      "metadata": {
        "colab": {
          "base_uri": "https://localhost:8080/",
          "height": 1000
        },
        "id": "z6FBUAMSIrSf",
        "outputId": "1d3f87e9-a2f1-434b-dd02-c7b5df3349c9"
      },
      "outputs": [
        {
          "name": "stdout",
          "output_type": "stream",
          "text": [
            "50 tensor(3.7628, device='cuda:0', grad_fn=<NegBackward0>)\n",
            "100 tensor(3.5409, device='cuda:0', grad_fn=<NegBackward0>)\n",
            "150 tensor(3.4828, device='cuda:0', grad_fn=<NegBackward0>)\n",
            "200 tensor(3.4460, device='cuda:0', grad_fn=<NegBackward0>)\n"
          ]
        },
        {
          "data": {
            "image/png": "[encoded data removed]",
            "text/plain": [
              "<Figure size 432x288 with 1 Axes>"
            ]
          },
          "metadata": {
            "needs_background": "light"
          },
          "output_type": "display_data"
        }
      ],
      "source": [
        "num_iter = 200 #andrà messo a 10000 su colab\n",
        "\n",
        "figloss=plt.figure()\n",
        "loss_values = []\n",
        "loss_validation = []\n",
        "for i in range(num_iter):\n",
        "  optimizer.zero_grad()\n",
        "  loss = -flow.log_prob(inputs=xt).mean()\n",
        "  loss_val = -flow.log_prob(inputs=xval).mean()\n",
        "  loss.backward()\n",
        "  optimizer.step()\n",
        "  loss_values.append(loss.cpu().detach().numpy())\n",
        "  loss_validation.append(loss_val.cpu().detach().numpy())\n",
        "  if (i+1) % 50 == 0:\n",
        "    print(i+1,loss)\n",
        "\n",
        "plt.plot(range(1, num_iter+1), loss_values, label='$loss$')\n",
        "plt.plot(range(1, num_iter+1), loss_validation,label='$loss_{val}$')\n",
        "plt.xlabel('epochs')\n",
        "plt.ylabel('loss')\n",
        "plt.yscale('log')\n",
        "plt.legend()\n",
        "plt.show()\n",
        "figloss.savefig('figures/Loss_comparison.pdf',dpi=190)"
      ]
    },
    {
      "cell_type": "code",
      "execution_count": 42,
      "metadata": {
        "colab": {
          "base_uri": "https://localhost:8080/"
        },
        "id": "iOKV0eOHJazW",
        "outputId": "a47ca33f-41d1-47a8-9d5a-43ebece79187"
      },
      "outputs": [
        {
          "name": "stdout",
          "output_type": "stream",
          "text": [
            "torch.Size([118206, 4])\n"
          ]
        }
      ],
      "source": [
        "sample = flow.sample(int(len(x)))\n",
        "print(sample.shape)\n",
        "sample = sample.cpu().detach().numpy()\n",
        "\n",
        "sample[:,0:3] = quantile.inverse_transform(sample[:,0:3])\n",
        "sample = scaler.inverse_transform(sample)\n",
        "sample[:,0] = np.exp(sample[:,0]) - 10\n",
        "sample[:,3] = np.exp(sample[:,3]) - 10\n",
        "#function(data,range_log, range_std, range_quantile,direction)"
      ]
    },
    {
      "cell_type": "code",
      "execution_count": 44,
      "metadata": {
        "colab": {
          "base_uri": "https://localhost:8080/",
          "height": 610
        },
        "id": "6Jh8UrPUWCu-",
        "outputId": "1be9c6b3-989a-479d-d3a9-957fb014fc9e"
      },
      "outputs": [
        {
          "data": {
            "image/png": "[encoded data removed]",
            "text/plain": [
              "<Figure size 504x432 with 4 Axes>"
            ]
          },
          "metadata": {
            "needs_background": "light"
          },
          "output_type": "display_data"
        }
      ],
      "source": [
        "fig,axs = plt.subplots(2, 2,figsize=(7,6))\n",
        "fig.suptitle(\"Variables distribution\")\n",
        "n_bins = 100\n",
        "\n",
        "axs[0, 0].hist(x[:,0],bins=n_bins, range=(0,1500))\n",
        "axs[0, 0].hist(sample[:,0],bins=n_bins, range=(0,1500),histtype='step')\n",
        "axs[0, 0].set_title('Axis [0, 0]')\n",
        "axs[0, 0].set_title('{} [GeV]'.format(labels_map[0]))\n",
        "axs[0, 0].set_label(\"Counts\")\n",
        "axs[0, 0].set_ylim(1,10e4)\n",
        "\n",
        "axs[0, 1].hist(x[:,1],bins=n_bins, range=(-5,5))\n",
        "axs[0, 1].hist(sample[:,1],bins=n_bins, range=(-5,5),histtype='step')\n",
        "axs[0, 1].set_title('{} [arb.]'.format(labels_map[1]))\n",
        "axs[0, 1].set_ylim(1,10e4)\n",
        "\n",
        "axs[1, 0].hist(x[:,2],bins=n_bins, range=(-3.30,3.30))\n",
        "axs[1, 0].hist(sample[:,2],bins=n_bins, range=(-3.30,3.30),histtype='step')\n",
        "axs[1, 0].set_title('{} [rad.]'.format(labels_map[2]))\n",
        "axs[1,0].sharey(axs[0,1])\n",
        "\n",
        "axs[1, 1].hist(x[:,3],bins=n_bins, range=(0,500))\n",
        "axs[1, 1].hist(sample[:,3],bins=n_bins, range=(0,500),histtype='step')\n",
        "axs[1, 1].set_title('{} [GeV]'.format(labels_map[3]))\n",
        "axs[1,1].sharey(axs[0,0])\n",
        "\n",
        "for ax in axs.flat:\n",
        "    ax.set(ylabel='Counts',yscale='log')\n",
        "\n",
        "fig.tight_layout()\n",
        "\n",
        "plt.show()\n",
        "fig.savefig('figures/Variables_distribution_with_reconstruction.pdf',dpi=190)"
      ]
    },
    {
      "cell_type": "code",
      "execution_count": 16,
      "metadata": {},
      "outputs": [],
      "source": [
        "#training\n",
        "# gaus = flow(data)\n",
        "# unif = erf(gaus)\n",
        "# unif' = unif * 2**N\n",
        "# unif'' = int(unif')\n",
        "# comp = unif''/2**N\n",
        "# gaus' = erfinv(comp)\n",
        "# data' = flow^-1(gaus') ==? data"
      ]
    },
    {
      "cell_type": "code",
      "execution_count": 30,
      "metadata": {},
      "outputs": [
        {
          "ename": "AttributeError",
          "evalue": "'Flow' object has no attribute 'transform_to_data'",
          "output_type": "error",
          "traceback": [
            "\u001b[0;31m---------------------------------------------------------------------------\u001b[0m",
            "\u001b[0;31mAttributeError\u001b[0m                            Traceback (most recent call last)",
            "\u001b[0;32m/tmp/ipykernel_303085/2908085769.py\u001b[0m in \u001b[0;36m<module>\u001b[0;34m\u001b[0m\n\u001b[1;32m     25\u001b[0m     \u001b[0;32mreturn\u001b[0m \u001b[0mnoise\u001b[0m\u001b[0;34m\u001b[0m\u001b[0;34m\u001b[0m\u001b[0m\n\u001b[1;32m     26\u001b[0m \u001b[0;34m\u001b[0m\u001b[0m\n\u001b[0;32m---> 27\u001b[0;31m \u001b[0mx_comp\u001b[0m \u001b[0;34m=\u001b[0m \u001b[0mflow\u001b[0m\u001b[0;34m.\u001b[0m\u001b[0mtransform_to_data\u001b[0m\u001b[0;34m(\u001b[0m\u001b[0mgaus_comp\u001b[0m\u001b[0;34m)\u001b[0m\u001b[0;34m\u001b[0m\u001b[0;34m\u001b[0m\u001b[0m\n\u001b[0m\u001b[1;32m     28\u001b[0m \u001b[0;34m\u001b[0m\u001b[0m\n\u001b[1;32m     29\u001b[0m \u001b[0;34m\u001b[0m\u001b[0m\n",
            "\u001b[0;32m~/.local/lib/python3.10/site-packages/torch/nn/modules/module.py\u001b[0m in \u001b[0;36m__getattr__\u001b[0;34m(self, name)\u001b[0m\n\u001b[1;32m   1693\u001b[0m             \u001b[0;32mif\u001b[0m \u001b[0mname\u001b[0m \u001b[0;32min\u001b[0m \u001b[0mmodules\u001b[0m\u001b[0;34m:\u001b[0m\u001b[0;34m\u001b[0m\u001b[0;34m\u001b[0m\u001b[0m\n\u001b[1;32m   1694\u001b[0m                 \u001b[0;32mreturn\u001b[0m \u001b[0mmodules\u001b[0m\u001b[0;34m[\u001b[0m\u001b[0mname\u001b[0m\u001b[0;34m]\u001b[0m\u001b[0;34m\u001b[0m\u001b[0;34m\u001b[0m\u001b[0m\n\u001b[0;32m-> 1695\u001b[0;31m         \u001b[0;32mraise\u001b[0m \u001b[0mAttributeError\u001b[0m\u001b[0;34m(\u001b[0m\u001b[0;34mf\"'{type(self).__name__}' object has no attribute '{name}'\"\u001b[0m\u001b[0;34m)\u001b[0m\u001b[0;34m\u001b[0m\u001b[0;34m\u001b[0m\u001b[0m\n\u001b[0m\u001b[1;32m   1696\u001b[0m \u001b[0;34m\u001b[0m\u001b[0m\n\u001b[1;32m   1697\u001b[0m     \u001b[0;32mdef\u001b[0m \u001b[0m__setattr__\u001b[0m\u001b[0;34m(\u001b[0m\u001b[0mself\u001b[0m\u001b[0;34m,\u001b[0m \u001b[0mname\u001b[0m\u001b[0;34m:\u001b[0m \u001b[0mstr\u001b[0m\u001b[0;34m,\u001b[0m \u001b[0mvalue\u001b[0m\u001b[0;34m:\u001b[0m \u001b[0mUnion\u001b[0m\u001b[0;34m[\u001b[0m\u001b[0mTensor\u001b[0m\u001b[0;34m,\u001b[0m \u001b[0;34m'Module'\u001b[0m\u001b[0;34m]\u001b[0m\u001b[0;34m)\u001b[0m \u001b[0;34m->\u001b[0m \u001b[0;32mNone\u001b[0m\u001b[0;34m:\u001b[0m\u001b[0;34m\u001b[0m\u001b[0;34m\u001b[0m\u001b[0m\n",
            "\u001b[0;31mAttributeError\u001b[0m: 'Flow' object has no attribute 'transform_to_data'"
          ]
        }
      ],
      "source": [
        "###COMPRESSING###\n",
        "N = 10\n",
        "\n",
        "x_tensor = torch.tensor(x).to('cuda').float()\n",
        "gaus = flow.transform_to_noise(x_tensor)\n",
        "\n",
        "unif = torch.erf(gaus)\n",
        "unif = unif * 2**N\n",
        "unif = torch.floor(unif)\n",
        "\n",
        "'''plt.figure()\n",
        "plt.hist(unif.cpu().detach().numpy(), bins=100, label='Uniform Distribution')\n",
        "plt.xlabel('Value')\n",
        "plt.ylabel('Frequency')\n",
        "plt.title('Histogram of Uniform Distribution')\n",
        "plt.legend()\n",
        "plt.show()\n",
        "plt.savefig('figures/unif.pdf', dpi=190)'''\n",
        "\n",
        "\n",
        "comp = unif/2**N   #compression\n",
        "gaus_comp = torch.erfinv(comp)\n",
        "def transform_to_data(flow,inputs):\n",
        "    noise, _ = flow.self._transform.inverse(inputs)\n",
        "    return noise\n",
        "\n",
        "x_comp = flow.transform_to_data(gaus_comp)\n",
        "\n",
        "\n",
        "x_comp = x_comp.cpu().detach().numpy()\n",
        "x_comp = scaler.inverse_transform(x_comp)\n",
        "x_comp = np.exp(x_comp) - 10\n",
        "\n"
      ]
    },
    {
      "cell_type": "code",
      "execution_count": 19,
      "metadata": {},
      "outputs": [
        {
          "data": {
            "image/png": "[encoded data removed]",
            "text/plain": [
              "<Figure size 720x576 with 4 Axes>"
            ]
          },
          "metadata": {
            "needs_background": "light"
          },
          "output_type": "display_data"
        }
      ],
      "source": [
        "fig, axs = plt.subplots(2, 2, figsize=(10, 8))\n",
        "fig.suptitle(\"Histogram of Variables\")\n",
        "\n",
        "n_bins = 100\n",
        "\n",
        "axs[0, 0].hist(x[:, 0], bins=n_bins, label='Original', alpha=0.5, log=True)\n",
        "axs[0, 0].hist(x_comp[:, 0], bins=n_bins, label='Compressed', alpha=0.5)\n",
        "axs[0, 0].set_title(labels_map[0])\n",
        "axs[0, 0].set_xlabel(\"Value\")\n",
        "axs[0, 0].set_ylabel(\"Frequency\")\n",
        "axs[0, 0].legend()\n",
        "\n",
        "axs[0, 1].hist(x[:, 1], bins=n_bins, label='Original', alpha=0.5, log=True)\n",
        "axs[0, 1].hist(x_comp[:, 1], bins=n_bins, label='Compressed', alpha=0.5)\n",
        "axs[0, 1].set_title(labels_map[1])\n",
        "axs[0, 1].set_xlabel(\"Value\")\n",
        "axs[0, 1].set_ylabel(\"Frequency\")\n",
        "axs[0, 1].legend()\n",
        "\n",
        "axs[1, 0].hist(x[:, 2], bins=n_bins, label='Original', alpha=0.5, log=True)\n",
        "axs[1, 0].hist(x_comp[:, 2], bins=n_bins, label='Compressed', alpha=0.5)\n",
        "axs[1, 0].set_title(labels_map[2])\n",
        "axs[1, 0].set_xlabel(\"Value\")\n",
        "axs[1, 0].set_ylabel(\"Frequency\")\n",
        "axs[1, 0].legend()\n",
        "\n",
        "axs[1, 1].hist(x[:, 3], bins=n_bins, label='Original', alpha=0.5, log=True)\n",
        "axs[1, 1].hist(x_comp[:, 3], bins=n_bins, label='Compressed', alpha=0.5)\n",
        "axs[1, 1].set_title(labels_map[3])\n",
        "axs[1, 1].set_xlabel(\"Value\")\n",
        "axs[1, 1].set_ylabel(\"Frequency\")\n",
        "axs[1, 1].legend()\n",
        "\n",
        "plt.tight_layout()\n",
        "plt.show()\n",
        "fig.savefig('figures/Variables_comparison.pdf', dpi=190)\n"
      ]
    }
  ],
  "metadata": {
    "accelerator": "GPU",
    "colab": {
      "gpuType": "A100",
      "machine_shape": "hm",
      "provenance": []
    },
    "kernelspec": {
      "display_name": "Python 3",
      "name": "python3"
    },
    "language_info": {
      "codemirror_mode": {
        "name": "ipython",
        "version": 3
      },
      "file_extension": ".py",
      "mimetype": "text/x-python",
      "name": "python",
      "nbconvert_exporter": "python",
      "pygments_lexer": "ipython3",
      "version": "3.10.12"
    }
  },
  "nbformat": 4,
  "nbformat_minor": 0
}
