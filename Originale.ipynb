{
  "cells": [
    {
      "cell_type": "code",
      "execution_count": 1,
      "metadata": {
        "colab": {
          "base_uri": "https://localhost:8080/"
        },
        "id": "jwDlIleWug4_",
        "outputId": "21400cff-4d87-4af6-e94e-8bdf247fa18c"
      },
      "outputs": [
        {
          "name": "stdout",
          "output_type": "stream",
          "text": [
            " figures\t\t       Originale.ipynb\t __pycache__   trasformation.py\n",
            "'images test reconstruction'   papers\t\t README.md\n"
          ]
        }
      ],
      "source": [
        "file_id_train = \"17LdtNKkpOEpk-l_EKX4BwtGUm0ML6vmT\" #links = 2 (472827)events\n",
        "file_id_val = \"1WC-TS1pel_lUT7bPenVyDXKEQjxjAmlg\" #links = 1 (920599)events\n",
        "\n",
        "#!gdown https://drive.google.com/uc?id={file_id_train}\n",
        "#!gdown https://drive.google.com/uc?id={file_id_val}\n",
        "!ls\n",
        "\n",
        "#!pip install nflows"
      ]
    },
    {
      "cell_type": "code",
      "execution_count": 2,
      "metadata": {
        "id": "XeWj117PLm-R"
      },
      "outputs": [],
      "source": [
        "#training\n",
        "# gaus = flow(data)\n",
        "# unif = erf(gaus)\n",
        "# unif' = unif * 2**N\n",
        "# unif'' = int(unif')\n",
        "# comp = unif''/2**N\n",
        "# gaus' = erfinv(comp)\n",
        "# data' = flow^-1(gaus') ==? data"
      ]
    },
    {
      "cell_type": "code",
      "execution_count": 3,
      "metadata": {
        "id": "TVqwByBl5nam"
      },
      "outputs": [],
      "source": [
        "from nflows.flows.base import Flow\n",
        "from nflows.distributions.normal import StandardNormal\n",
        "from nflows.transforms.base import CompositeTransform\n",
        "from nflows.transforms.base import InverseTransform\n",
        "from nflows.transforms.autoregressive import MaskedAffineAutoregressiveTransform\n",
        "from nflows.transforms.permutations import ReversePermutation\n",
        "from nflows.transforms.permutations import RandomPermutation\n",
        "\n",
        "from torch import optim\n",
        "from sklearn import preprocessing\n",
        "import trasformation\n",
        "import scipy.special\n",
        "import numpy as np\n",
        "import matplotlib.pyplot as plt\n",
        "import torch\n",
        "\n",
        "\n",
        "labels_map = {\n",
        "    0: \"$p_T$\",\n",
        "    1: \"$\\eta$\",\n",
        "    2: \"$\\phi$\",\n",
        "    3: \"mass\",\n",
        "    4: \"JetArea\",\n",
        "    5: \"ChargedHadronEnergy\",\n",
        "    6: \"NeutralHadronEnergy\",\n",
        "    7: \"PhotonEnergy\",\n",
        "    8: \"ElectronEnergy\",\n",
        "    9: \"MuonEnergy\",\n",
        "    10: \"HFHadronHadronEnergy\",\n",
        "    11: \"HFEMEnergy\",\n",
        "    12: \"ChargedHadronMultiplicity\",\n",
        "    13: \"NeutralHadronMultiplicity\",\n",
        "    14: \"PhotonMultiplicity\",\n",
        "    15: \"ElectronMultiplicity\",\n",
        "    16: \"MuonMultiplicity\",\n",
        "    17: \"HFHadronMultiplicity\",\n",
        "    18: \"HFEMMultiplicity\",\n",
        "    19: \"ChargedEmEnergy\",\n",
        "    20: \"ChargedMuEnergy\",\n",
        "    21: \"NeutralEmEnergy\",\n",
        "    22: \"ChargedMultiplicity\",\n",
        "    23: \"NeutralMultiplicity\",\n",
        "}\n",
        "num_features = len(labels_map)\n",
        "\n",
        "index_int = np.append(np.arange(12,19),[22,23])\n",
        "index_float = np.append(np.arange(0,12),np.arange(19,22))"
      ]
    },
    {
      "cell_type": "code",
      "execution_count": 4,
      "metadata": {},
      "outputs": [],
      "source": []
    },
    {
      "cell_type": "code",
      "execution_count": 4,
      "metadata": {
        "colab": {
          "base_uri": "https://localhost:8080/"
        },
        "id": "TTR7jb9mchWy",
        "outputId": "85a59844-0df8-45bc-901a-38679aed4142"
      },
      "outputs": [
        {
          "name": "stdout",
          "output_type": "stream",
          "text": [
            "472827\n"
          ]
        }
      ],
      "source": [
        "x = np.loadtxt(\"/home/unipi/i.ditota/Desktop/dataset_piccolo.txt\", delimiter=',')\n",
        "xval = np.loadtxt(\"/home/unipi/i.ditota/Desktop/dataset.txt\", delimiter=',')\n",
        "L=len(x)\n",
        "print(L)"
      ]
    },
    {
      "cell_type": "code",
      "execution_count": 5,
      "metadata": {},
      "outputs": [
        {
          "name": "stdout",
          "output_type": "stream",
          "text": [
            "Eventi = 29551\n",
            "attribute\tvalue\ttype\n",
            "\n",
            "$p_T$\t15.8641204834\t<class 'numpy.float64'>\n",
            "\n",
            "$\\eta$\t-2.97655129433\t<class 'numpy.float64'>\n",
            "\n",
            "$\\phi$\t-1.19218158722\t<class 'numpy.float64'>\n",
            "\n",
            "mass\t4.52637481689\t<class 'numpy.float64'>\n",
            "\n"
          ]
        },
        {
          "name": "stderr",
          "output_type": "stream",
          "text": [
            "/home/unipi/i.ditota/.local/lib/python3.10/site-packages/torch/cuda/__init__.py:611: UserWarning: Can't initialize NVML\n",
            "  warnings.warn(\"Can't initialize NVML\")\n"
          ]
        }
      ],
      "source": [
        "###LOG SU 0 E 3,STD SU TUTTE E QUATTRO LE FEATURES E QUANTILE SU 1,2\n",
        "\n",
        "x = x[:int(L/16),:] #da mettere al massimo a 8 in colab\n",
        "xval = xval[:len(x),:]\n",
        "\n",
        "num_features = 4\n",
        "x = x[:,0:num_features]\n",
        "xval = xval[:,0:num_features]\n",
        "\n",
        "print('Eventi =',len(x))\n",
        "print('attribute\\tvalue\\ttype\\n')\n",
        "for i in range(0,num_features,1):\n",
        "  print('{0}\\t{1}\\t{2}\\n'.format(labels_map[i],x[100,i],type(x[100,i])))\n",
        "\n",
        "xtr = np.copy(x)\n",
        "xtrval = np.copy(xval)\n",
        "\n",
        "\n",
        "xtr = trasformation.prep(original=x, transformed=xtr, dir='forward', index_log=([0,3]), range_quantile=([1,2]), n_quantiles=10000)\n",
        "xtrval = trasformation.prep(original=xval, transformed=xtrval, dir='forward', index_log=([0,3]), range_quantile=([1,2]), n_quantiles=10000)\n",
        "\n",
        "xt = torch.tensor(xtr).to('cuda').float()\n",
        "xval = torch.tensor(xtrval).to('cuda').float()"
      ]
    },
    {
      "cell_type": "code",
      "execution_count": 6,
      "metadata": {
        "colab": {
          "base_uri": "https://localhost:8080/",
          "height": 805
        },
        "id": "QEAIdmZvWdix",
        "outputId": "5d3d2be5-0e9d-429a-efc7-f59ac196825e"
      },
      "outputs": [
        {
          "data": {
            "image/png": "[encoded data removed]",
            "text/plain": [
              "<Figure size 720x576 with 4 Axes>"
            ]
          },
          "metadata": {
            "needs_background": "light"
          },
          "output_type": "display_data"
        }
      ],
      "source": [
        "fig, axs = plt.subplots(2, 2, figsize=(10, 8))\n",
        "fig.suptitle(\"Histogram of Dataset Features\")\n",
        "n_bins = 100\n",
        "\n",
        "axs[0, 0].hist(xtr[:, 0], bins=n_bins,log=True)\n",
        "axs[0, 0].set_title(labels_map[0])\n",
        "axs[0, 0].set_xlabel(\"Value\")\n",
        "axs[0, 0].set_ylabel(\"Frequency\")\n",
        "\n",
        "axs[0, 1].hist(xtr[:, 1], bins=n_bins,log=True)\n",
        "axs[0, 1].set_title(labels_map[1])\n",
        "axs[0, 1].set_xlabel(\"Value\")\n",
        "axs[0, 1].set_ylabel(\"Frequency\")\n",
        "\n",
        "axs[1, 0].hist(xtr[:, 2], bins=n_bins,log=True)\n",
        "axs[1, 0].set_title(labels_map[2])\n",
        "axs[1, 0].set_xlabel(\"Value\")\n",
        "axs[1, 0].set_ylabel(\"Frequency\")\n",
        "\n",
        "axs[1, 1].hist(xtr[:, 3], bins=n_bins,log=True)\n",
        "axs[1, 1].set_title(labels_map[3])\n",
        "axs[1, 1].set_xlabel(\"Value\")\n",
        "axs[1, 1].set_ylabel(\"Frequency\")\n",
        "\n",
        "plt.tight_layout()\n",
        "plt.show()\n",
        "fig.savefig('figures/Variables_distribution_transformed.pdf',dpi=190)\n"
      ]
    },
    {
      "cell_type": "code",
      "execution_count": 7,
      "metadata": {
        "colab": {
          "base_uri": "https://localhost:8080/",
          "height": 610
        },
        "id": "qCDxbpDhvkH-",
        "outputId": "7f100065-20ed-4e34-b819-2213a08876bd"
      },
      "outputs": [
        {
          "data": {
            "image/png": "[encoded data removed]",
            "text/plain": [
              "<Figure size 504x432 with 4 Axes>"
            ]
          },
          "metadata": {
            "needs_background": "light"
          },
          "output_type": "display_data"
        }
      ],
      "source": [
        "fig,axs = plt.subplots(2, 2,figsize=(7,6))\n",
        "fig.suptitle(\"Variables distribution\")\n",
        "n_bins = 100\n",
        "\n",
        "axs[0, 0].hist(x[:,0],bins=n_bins, range=(0,1500))\n",
        "axs[0, 0].set_title('Axis [0, 0]')\n",
        "axs[0, 0].set_title('{} [GeV]'.format(labels_map[0]))\n",
        "axs[0, 0].set_label(\"Counts\")\n",
        "axs[0, 0].set_ylim(1,10e4)\n",
        "\n",
        "axs[0, 1].hist(x[:,1],bins=n_bins, range=(-5,5))\n",
        "axs[0, 1].set_title('{} [arb.]'.format(labels_map[1]))\n",
        "axs[0, 1].set_ylim(1,10e4)\n",
        "\n",
        "axs[1, 0].hist(x[:,2],bins=n_bins, range=(-3.30,3.30))\n",
        "axs[1, 0].set_title('{} [rad.]'.format(labels_map[2]))\n",
        "axs[1,0].sharey(axs[0,1])\n",
        "\n",
        "axs[1, 1].hist(x[:,3],bins=n_bins, range=(0,500))\n",
        "axs[1, 1].set_title('{} [GeV]'.format(labels_map[3]))\n",
        "axs[1,1].sharey(axs[0,0])\n",
        "\n",
        "for ax in axs.flat:\n",
        "    ax.set(ylabel='Counts',yscale='log')\n",
        "\n",
        "fig.tight_layout()\n",
        "\n",
        "plt.show()\n",
        "fig.savefig('figures/Variables_distribution.pdf',dpi=190)"
      ]
    },
    {
      "cell_type": "code",
      "execution_count": 8,
      "metadata": {
        "colab": {
          "base_uri": "https://localhost:8080/"
        },
        "id": "0jQxdoj82ILY",
        "outputId": "bebab872-1e4a-47af-c3d2-093afdf10018"
      },
      "outputs": [
        {
          "name": "stdout",
          "output_type": "stream",
          "text": [
            "270880\n"
          ]
        }
      ],
      "source": [
        "num_iterations = 4 #andrà messo a 8 su colab\n",
        "num_features=4 #just for testing\n",
        "\n",
        "base_dist = StandardNormal(shape=[num_features])\n",
        "\n",
        "transforms = []\n",
        "for _ in range(num_iterations):\n",
        "  transforms.append(RandomPermutation(features=num_features))\n",
        "  #transforms.append(ReversePermutation(features=num_features))\n",
        "  transforms.append(MaskedAffineAutoregressiveTransform(features=num_features,hidden_features=128))\n",
        "\n",
        "transform = CompositeTransform(transforms)\n",
        "\n",
        "flow = Flow(transform, base_dist)\n",
        "tp = sum(p.numel() for p in flow.parameters() if p.requires_grad)\n",
        "print(tp)\n",
        "optimizer = optim.Adam(flow.parameters())\n",
        "\n",
        "flow = flow.to('cuda')"
      ]
    },
    {
      "cell_type": "code",
      "execution_count": 9,
      "metadata": {
        "colab": {
          "base_uri": "https://localhost:8080/",
          "height": 1000
        },
        "id": "z6FBUAMSIrSf",
        "outputId": "1d3f87e9-a2f1-434b-dd02-c7b5df3349c9"
      },
      "outputs": [
        {
          "name": "stdout",
          "output_type": "stream",
          "text": [
            "50 tensor(3.1960, device='cuda:0', grad_fn=<NegBackward0>)\n",
            "100 tensor(3.0568, device='cuda:0', grad_fn=<NegBackward0>)\n"
          ]
        },
        {
          "data": {
            "image/png": "[encoded data removed]",
            "text/plain": [
              "<Figure size 432x288 with 1 Axes>"
            ]
          },
          "metadata": {
            "needs_background": "light"
          },
          "output_type": "display_data"
        }
      ],
      "source": [
        "num_iter = 100 #andrà messo a 10000 su colab\n",
        "\n",
        "figloss=plt.figure()\n",
        "loss_values = []\n",
        "loss_validation = []\n",
        "for i in range(num_iter):\n",
        "  optimizer.zero_grad()\n",
        "  loss = -flow.log_prob(inputs=xt).mean()\n",
        "  loss_val = -flow.log_prob(inputs=xval).mean()\n",
        "  loss.backward()\n",
        "  optimizer.step()\n",
        "  loss_values.append(loss.cpu().detach().numpy())\n",
        "  loss_validation.append(loss_val.cpu().detach().numpy())\n",
        "  if (i+1) % 50 == 0:\n",
        "    print(i+1,loss)\n",
        "\n",
        "plt.plot(range(1, num_iter+1), loss_values, label='$loss$')\n",
        "plt.plot(range(1, num_iter+1), loss_validation,label='$loss_{val}$')\n",
        "plt.xlabel('epochs')\n",
        "plt.ylabel('loss')\n",
        "plt.yscale('log')\n",
        "plt.legend()\n",
        "plt.show()\n",
        "figloss.savefig('figures/Loss_comparison.pdf',dpi=190)"
      ]
    },
    {
      "cell_type": "code",
      "execution_count": 10,
      "metadata": {
        "colab": {
          "base_uri": "https://localhost:8080/"
        },
        "id": "iOKV0eOHJazW",
        "outputId": "a47ca33f-41d1-47a8-9d5a-43ebece79187"
      },
      "outputs": [],
      "source": [
        "sample = flow.sample(int(len(x)))\n",
        "sample = sample.cpu().detach().numpy()\n",
        "sample = trasformation.prep(original=x, transformed=sample, dir='backward', index_log=([0,3]), range_quantile=([1,2]), n_quantiles=10000)"
      ]
    },
    {
      "cell_type": "code",
      "execution_count": 12,
      "metadata": {},
      "outputs": [
        {
          "data": {
            "text/plain": [
              "'sample[:,1:3] = quantile.inverse_transform(sample[:,1:3])\\nsample = scaler.inverse_transform(sample)\\nsample[:,0] = np.exp(sample[:,0]) - 10\\nsample[:,3] = np.exp(sample[:,3]) - 10'"
            ]
          },
          "execution_count": 12,
          "metadata": {},
          "output_type": "execute_result"
        }
      ],
      "source": [
        "'''sample[:,1:3] = quantile.inverse_transform(sample[:,1:3])\n",
        "sample = scaler.inverse_transform(sample)\n",
        "sample[:,0] = np.exp(sample[:,0]) - 10\n",
        "sample[:,3] = np.exp(sample[:,3]) - 10'''\n",
        "#function(data,range_log, range_std, range_quantile,direction)"
      ]
    },
    {
      "cell_type": "code",
      "execution_count": 11,
      "metadata": {
        "colab": {
          "base_uri": "https://localhost:8080/",
          "height": 610
        },
        "id": "6Jh8UrPUWCu-",
        "outputId": "1be9c6b3-989a-479d-d3a9-957fb014fc9e"
      },
      "outputs": [
        {
          "data": {
            "image/png": "[encoded data removed]",
            "text/plain": [
              "<Figure size 504x432 with 4 Axes>"
            ]
          },
          "metadata": {
            "needs_background": "light"
          },
          "output_type": "display_data"
        }
      ],
      "source": [
        "fig,axs = plt.subplots(2, 2,figsize=(7,6))\n",
        "fig.suptitle(\"Variables distribution\")\n",
        "n_bins = 100\n",
        "\n",
        "axs[0, 0].hist(x[:,0],bins=n_bins, range=(0,1500))\n",
        "axs[0, 0].hist(sample[:,0],bins=n_bins, range=(0,1500),histtype='step')\n",
        "axs[0, 0].set_title('Axis [0, 0]')\n",
        "axs[0, 0].set_title('{} [GeV]'.format(labels_map[0]))\n",
        "axs[0, 0].set_label(\"Counts\")\n",
        "axs[0, 0].set_ylim(1,10e4)\n",
        "\n",
        "axs[0, 1].hist(x[:,1],bins=n_bins, range=(-5,5))\n",
        "axs[0, 1].hist(sample[:,1],bins=n_bins, range=(-5,5),histtype='step')\n",
        "axs[0, 1].set_title('{} [arb.]'.format(labels_map[1]))\n",
        "axs[0, 1].set_ylim(1,10e4)\n",
        "\n",
        "axs[1, 0].hist(x[:,2],bins=n_bins, range=(-3.30,3.30))\n",
        "axs[1, 0].hist(sample[:,2],bins=n_bins, range=(-3.30,3.30),histtype='step')\n",
        "axs[1, 0].set_title('{} [rad.]'.format(labels_map[2]))\n",
        "axs[1,0].sharey(axs[0,1])\n",
        "\n",
        "axs[1, 1].hist(x[:,3],bins=n_bins, range=(0,500))\n",
        "axs[1, 1].hist(sample[:,3],bins=n_bins, range=(0,500),histtype='step')\n",
        "axs[1, 1].set_title('{} [GeV]'.format(labels_map[3]))\n",
        "axs[1,1].sharey(axs[0,0])\n",
        "\n",
        "for ax in axs.flat:\n",
        "    ax.set(ylabel='Counts',yscale='log')\n",
        "\n",
        "fig.tight_layout()\n",
        "\n",
        "plt.show()\n",
        "fig.savefig('figures/Variables_distribution_with_reconstruction.pdf',dpi=190)"
      ]
    },
    {
      "cell_type": "code",
      "execution_count": 12,
      "metadata": {},
      "outputs": [],
      "source": [
        "#training\n",
        "# gaus = flow(data)\n",
        "# unif = erf(gaus)\n",
        "# unif' = unif * 2**N\n",
        "# unif'' = int(unif')\n",
        "# comp = unif''/2**N\n",
        "# gaus' = erfinv(comp)\n",
        "# data' = flow^-1(gaus') ==? data"
      ]
    },
    {
      "cell_type": "code",
      "execution_count": 65,
      "metadata": {},
      "outputs": [
        {
          "name": "stdout",
          "output_type": "stream",
          "text": [
            "[[-9.4630972e-02  8.7043149e-03 -4.8546817e-02  5.2803368e-03]\n",
            " [-4.9194485e-02  1.1261750e-03  3.4395696e-03  2.7005244e-03]\n",
            " [-4.5427125e-02  2.1960966e-04 -5.5938703e-03  3.7802649e-03]\n",
            " ...\n",
            " [-2.2056426e-03 -4.4389715e-08 -3.0282824e-04  1.3688198e-04]\n",
            " [-2.9102915e-03 -4.0194681e-08 -1.9041753e-04  2.1872029e-04]\n",
            " [-6.9610978e-04 -2.6103253e-08 -1.5408496e-04  8.8551700e-05]]\n"
          ]
        },
        {
          "data": {
            "image/png": "[encoded data removed]",
            "text/plain": [
              "<Figure size 432x288 with 1 Axes>"
            ]
          },
          "metadata": {
            "needs_background": "light"
          },
          "output_type": "display_data"
        },
        {
          "name": "stdout",
          "output_type": "stream",
          "text": [
            "inf\n",
            "0\n"
          ]
        },
        {
          "name": "stderr",
          "output_type": "stream",
          "text": [
            "/home/unipi/i.ditota/Desktop/CMEPDA/trasformation.py:24: RuntimeWarning: overflow encountered in exp\n",
            "  transformed[:,i] = np.exp(transformed[:,i]) - 10\n"
          ]
        }
      ],
      "source": [
        "\n",
        "###COMPRESSING###\n",
        "N = 32\n",
        "\n",
        "x_tensor = torch.tensor(x).to('cuda').float()\n",
        "gaus_tensor = flow.transform_to_noise(x_tensor)\n",
        "gaus = (gaus_tensor.cpu().detach().numpy())\n",
        "\n",
        "'''\n",
        "M=np.zeros(num_features)\n",
        "for k in range(num_features):\n",
        "    M[k] = np.max(np.abs(gaus[:,k]))\n",
        "    '''\n",
        "\n",
        "transformer = preprocessing.MaxAbsScaler().fit(gaus)\n",
        "gaus = transformer.transform(gaus)\n",
        "\n",
        "print(gaus)\n",
        "#print(gaus)\n",
        "\n",
        "unif = scipy.special.erf(gaus)\n",
        "unif = unif * 2**N\n",
        "unif = unif.astype(int)\n",
        "comp = unif/2**(N)   #compression\n",
        "\n",
        "plt.figure()\n",
        "plt.hist(gaus[:,0],bins=100)\n",
        "plt.show()\n",
        "\n",
        "gaus_comp = scipy.special.erfinv(comp)\n",
        "gaus_comp = transformer.inverse_transform(gaus_comp)\n",
        "\n",
        "gaus_tensor_comp = torch.tensor(gaus_comp).to('cuda').float()\n",
        "x_tensor_comp, _ = flow._transform.inverse(gaus_tensor_comp)\n",
        "xcomp = x_tensor_comp.cpu().detach().numpy()\n",
        "\n",
        "xcomp = trasformation.prep(original=x, transformed=xcomp, dir='backward', index_log=([0,3]), range_quantile=([1,2]), n_quantiles=10000)\n",
        "print(max(xcomp[:,0]))\n",
        "\n"
      ]
    },
    {
      "cell_type": "code",
      "execution_count": 66,
      "metadata": {},
      "outputs": [
        {
          "ename": "ValueError",
          "evalue": "supplied range of [68.72877502441406, inf] is not finite",
          "output_type": "error",
          "traceback": [
            "\u001b[0;31m---------------------------------------------------------------------------\u001b[0m",
            "\u001b[0;31mValueError\u001b[0m                                Traceback (most recent call last)",
            "\u001b[0;32m/tmp/ipykernel_12891/3828603240.py\u001b[0m in \u001b[0;36m<module>\u001b[0;34m\u001b[0m\n\u001b[1;32m      5\u001b[0m \u001b[0;34m\u001b[0m\u001b[0m\n\u001b[1;32m      6\u001b[0m \u001b[0maxs\u001b[0m\u001b[0;34m[\u001b[0m\u001b[0;36m0\u001b[0m\u001b[0;34m,\u001b[0m \u001b[0;36m0\u001b[0m\u001b[0;34m]\u001b[0m\u001b[0;34m.\u001b[0m\u001b[0mhist\u001b[0m\u001b[0;34m(\u001b[0m\u001b[0mx\u001b[0m\u001b[0;34m[\u001b[0m\u001b[0;34m:\u001b[0m\u001b[0;34m,\u001b[0m \u001b[0;36m0\u001b[0m\u001b[0;34m]\u001b[0m\u001b[0;34m,\u001b[0m \u001b[0mbins\u001b[0m\u001b[0;34m=\u001b[0m\u001b[0mn_bins\u001b[0m\u001b[0;34m,\u001b[0m \u001b[0mlabel\u001b[0m\u001b[0;34m=\u001b[0m\u001b[0;34m'Original'\u001b[0m\u001b[0;34m,\u001b[0m \u001b[0malpha\u001b[0m\u001b[0;34m=\u001b[0m\u001b[0;36m0.5\u001b[0m\u001b[0;34m,\u001b[0m \u001b[0mlog\u001b[0m\u001b[0;34m=\u001b[0m\u001b[0;32mTrue\u001b[0m\u001b[0;34m)\u001b[0m\u001b[0;34m\u001b[0m\u001b[0;34m\u001b[0m\u001b[0m\n\u001b[0;32m----> 7\u001b[0;31m \u001b[0maxs\u001b[0m\u001b[0;34m[\u001b[0m\u001b[0;36m0\u001b[0m\u001b[0;34m,\u001b[0m \u001b[0;36m0\u001b[0m\u001b[0;34m]\u001b[0m\u001b[0;34m.\u001b[0m\u001b[0mhist\u001b[0m\u001b[0;34m(\u001b[0m\u001b[0mxcomp\u001b[0m\u001b[0;34m[\u001b[0m\u001b[0;34m:\u001b[0m\u001b[0;34m,\u001b[0m \u001b[0;36m0\u001b[0m\u001b[0;34m]\u001b[0m\u001b[0;34m,\u001b[0m \u001b[0mbins\u001b[0m\u001b[0;34m=\u001b[0m\u001b[0mn_bins\u001b[0m\u001b[0;34m,\u001b[0m \u001b[0mlabel\u001b[0m\u001b[0;34m=\u001b[0m\u001b[0;34m'Compressed'\u001b[0m\u001b[0;34m,\u001b[0m \u001b[0malpha\u001b[0m\u001b[0;34m=\u001b[0m\u001b[0;36m0.5\u001b[0m\u001b[0;34m)\u001b[0m\u001b[0;34m\u001b[0m\u001b[0;34m\u001b[0m\u001b[0m\n\u001b[0m\u001b[1;32m      8\u001b[0m \u001b[0maxs\u001b[0m\u001b[0;34m[\u001b[0m\u001b[0;36m0\u001b[0m\u001b[0;34m,\u001b[0m \u001b[0;36m0\u001b[0m\u001b[0;34m]\u001b[0m\u001b[0;34m.\u001b[0m\u001b[0mset_title\u001b[0m\u001b[0;34m(\u001b[0m\u001b[0mlabels_map\u001b[0m\u001b[0;34m[\u001b[0m\u001b[0;36m0\u001b[0m\u001b[0;34m]\u001b[0m\u001b[0;34m)\u001b[0m\u001b[0;34m\u001b[0m\u001b[0;34m\u001b[0m\u001b[0m\n\u001b[1;32m      9\u001b[0m \u001b[0maxs\u001b[0m\u001b[0;34m[\u001b[0m\u001b[0;36m0\u001b[0m\u001b[0;34m,\u001b[0m \u001b[0;36m0\u001b[0m\u001b[0;34m]\u001b[0m\u001b[0;34m.\u001b[0m\u001b[0mset_xlabel\u001b[0m\u001b[0;34m(\u001b[0m\u001b[0;34m\"Value\"\u001b[0m\u001b[0;34m)\u001b[0m\u001b[0;34m\u001b[0m\u001b[0;34m\u001b[0m\u001b[0m\n",
            "\u001b[0;32m/usr/lib/python3/dist-packages/matplotlib/__init__.py\u001b[0m in \u001b[0;36minner\u001b[0;34m(ax, data, *args, **kwargs)\u001b[0m\n\u001b[1;32m   1414\u001b[0m     \u001b[0;32mdef\u001b[0m \u001b[0minner\u001b[0m\u001b[0;34m(\u001b[0m\u001b[0max\u001b[0m\u001b[0;34m,\u001b[0m \u001b[0;34m*\u001b[0m\u001b[0margs\u001b[0m\u001b[0;34m,\u001b[0m \u001b[0mdata\u001b[0m\u001b[0;34m=\u001b[0m\u001b[0;32mNone\u001b[0m\u001b[0;34m,\u001b[0m \u001b[0;34m**\u001b[0m\u001b[0mkwargs\u001b[0m\u001b[0;34m)\u001b[0m\u001b[0;34m:\u001b[0m\u001b[0;34m\u001b[0m\u001b[0;34m\u001b[0m\u001b[0m\n\u001b[1;32m   1415\u001b[0m         \u001b[0;32mif\u001b[0m \u001b[0mdata\u001b[0m \u001b[0;32mis\u001b[0m \u001b[0;32mNone\u001b[0m\u001b[0;34m:\u001b[0m\u001b[0;34m\u001b[0m\u001b[0;34m\u001b[0m\u001b[0m\n\u001b[0;32m-> 1416\u001b[0;31m             \u001b[0;32mreturn\u001b[0m \u001b[0mfunc\u001b[0m\u001b[0;34m(\u001b[0m\u001b[0max\u001b[0m\u001b[0;34m,\u001b[0m \u001b[0;34m*\u001b[0m\u001b[0mmap\u001b[0m\u001b[0;34m(\u001b[0m\u001b[0msanitize_sequence\u001b[0m\u001b[0;34m,\u001b[0m \u001b[0margs\u001b[0m\u001b[0;34m)\u001b[0m\u001b[0;34m,\u001b[0m \u001b[0;34m**\u001b[0m\u001b[0mkwargs\u001b[0m\u001b[0;34m)\u001b[0m\u001b[0;34m\u001b[0m\u001b[0;34m\u001b[0m\u001b[0m\n\u001b[0m\u001b[1;32m   1417\u001b[0m \u001b[0;34m\u001b[0m\u001b[0m\n\u001b[1;32m   1418\u001b[0m         \u001b[0mbound\u001b[0m \u001b[0;34m=\u001b[0m \u001b[0mnew_sig\u001b[0m\u001b[0;34m.\u001b[0m\u001b[0mbind\u001b[0m\u001b[0;34m(\u001b[0m\u001b[0max\u001b[0m\u001b[0;34m,\u001b[0m \u001b[0;34m*\u001b[0m\u001b[0margs\u001b[0m\u001b[0;34m,\u001b[0m \u001b[0;34m**\u001b[0m\u001b[0mkwargs\u001b[0m\u001b[0;34m)\u001b[0m\u001b[0;34m\u001b[0m\u001b[0;34m\u001b[0m\u001b[0m\n",
            "\u001b[0;32m/usr/lib/python3/dist-packages/matplotlib/axes/_axes.py\u001b[0m in \u001b[0;36mhist\u001b[0;34m(self, x, bins, range, density, weights, cumulative, bottom, histtype, align, orientation, rwidth, log, color, label, stacked, **kwargs)\u001b[0m\n\u001b[1;32m   6637\u001b[0m             \u001b[0;31m# this will automatically overwrite bins,\u001b[0m\u001b[0;34m\u001b[0m\u001b[0;34m\u001b[0m\u001b[0m\n\u001b[1;32m   6638\u001b[0m             \u001b[0;31m# so that each histogram uses the same bins\u001b[0m\u001b[0;34m\u001b[0m\u001b[0;34m\u001b[0m\u001b[0m\n\u001b[0;32m-> 6639\u001b[0;31m             \u001b[0mm\u001b[0m\u001b[0;34m,\u001b[0m \u001b[0mbins\u001b[0m \u001b[0;34m=\u001b[0m \u001b[0mnp\u001b[0m\u001b[0;34m.\u001b[0m\u001b[0mhistogram\u001b[0m\u001b[0;34m(\u001b[0m\u001b[0mx\u001b[0m\u001b[0;34m[\u001b[0m\u001b[0mi\u001b[0m\u001b[0;34m]\u001b[0m\u001b[0;34m,\u001b[0m \u001b[0mbins\u001b[0m\u001b[0;34m,\u001b[0m \u001b[0mweights\u001b[0m\u001b[0;34m=\u001b[0m\u001b[0mw\u001b[0m\u001b[0;34m[\u001b[0m\u001b[0mi\u001b[0m\u001b[0;34m]\u001b[0m\u001b[0;34m,\u001b[0m \u001b[0;34m**\u001b[0m\u001b[0mhist_kwargs\u001b[0m\u001b[0;34m)\u001b[0m\u001b[0;34m\u001b[0m\u001b[0;34m\u001b[0m\u001b[0m\n\u001b[0m\u001b[1;32m   6640\u001b[0m             \u001b[0mtops\u001b[0m\u001b[0;34m.\u001b[0m\u001b[0mappend\u001b[0m\u001b[0;34m(\u001b[0m\u001b[0mm\u001b[0m\u001b[0;34m)\u001b[0m\u001b[0;34m\u001b[0m\u001b[0;34m\u001b[0m\u001b[0m\n\u001b[1;32m   6641\u001b[0m         \u001b[0mtops\u001b[0m \u001b[0;34m=\u001b[0m \u001b[0mnp\u001b[0m\u001b[0;34m.\u001b[0m\u001b[0marray\u001b[0m\u001b[0;34m(\u001b[0m\u001b[0mtops\u001b[0m\u001b[0;34m,\u001b[0m \u001b[0mfloat\u001b[0m\u001b[0;34m)\u001b[0m  \u001b[0;31m# causes problems later if it's an int\u001b[0m\u001b[0;34m\u001b[0m\u001b[0;34m\u001b[0m\u001b[0m\n",
            "\u001b[0;32m<__array_function__ internals>\u001b[0m in \u001b[0;36mhistogram\u001b[0;34m(*args, **kwargs)\u001b[0m\n",
            "\u001b[0;32m/usr/lib/python3/dist-packages/numpy/lib/histograms.py\u001b[0m in \u001b[0;36mhistogram\u001b[0;34m(a, bins, range, normed, weights, density)\u001b[0m\n\u001b[1;32m    791\u001b[0m     \u001b[0ma\u001b[0m\u001b[0;34m,\u001b[0m \u001b[0mweights\u001b[0m \u001b[0;34m=\u001b[0m \u001b[0m_ravel_and_check_weights\u001b[0m\u001b[0;34m(\u001b[0m\u001b[0ma\u001b[0m\u001b[0;34m,\u001b[0m \u001b[0mweights\u001b[0m\u001b[0;34m)\u001b[0m\u001b[0;34m\u001b[0m\u001b[0;34m\u001b[0m\u001b[0m\n\u001b[1;32m    792\u001b[0m \u001b[0;34m\u001b[0m\u001b[0m\n\u001b[0;32m--> 793\u001b[0;31m     \u001b[0mbin_edges\u001b[0m\u001b[0;34m,\u001b[0m \u001b[0muniform_bins\u001b[0m \u001b[0;34m=\u001b[0m \u001b[0m_get_bin_edges\u001b[0m\u001b[0;34m(\u001b[0m\u001b[0ma\u001b[0m\u001b[0;34m,\u001b[0m \u001b[0mbins\u001b[0m\u001b[0;34m,\u001b[0m \u001b[0mrange\u001b[0m\u001b[0;34m,\u001b[0m \u001b[0mweights\u001b[0m\u001b[0;34m)\u001b[0m\u001b[0;34m\u001b[0m\u001b[0;34m\u001b[0m\u001b[0m\n\u001b[0m\u001b[1;32m    794\u001b[0m \u001b[0;34m\u001b[0m\u001b[0m\n\u001b[1;32m    795\u001b[0m     \u001b[0;31m# Histogram is an integer or a float array depending on the weights.\u001b[0m\u001b[0;34m\u001b[0m\u001b[0;34m\u001b[0m\u001b[0m\n",
            "\u001b[0;32m/usr/lib/python3/dist-packages/numpy/lib/histograms.py\u001b[0m in \u001b[0;36m_get_bin_edges\u001b[0;34m(a, bins, range, weights)\u001b[0m\n\u001b[1;32m    424\u001b[0m             \u001b[0;32mraise\u001b[0m \u001b[0mValueError\u001b[0m\u001b[0;34m(\u001b[0m\u001b[0;34m'`bins` must be positive, when an integer'\u001b[0m\u001b[0;34m)\u001b[0m\u001b[0;34m\u001b[0m\u001b[0;34m\u001b[0m\u001b[0m\n\u001b[1;32m    425\u001b[0m \u001b[0;34m\u001b[0m\u001b[0m\n\u001b[0;32m--> 426\u001b[0;31m         \u001b[0mfirst_edge\u001b[0m\u001b[0;34m,\u001b[0m \u001b[0mlast_edge\u001b[0m \u001b[0;34m=\u001b[0m \u001b[0m_get_outer_edges\u001b[0m\u001b[0;34m(\u001b[0m\u001b[0ma\u001b[0m\u001b[0;34m,\u001b[0m \u001b[0mrange\u001b[0m\u001b[0;34m)\u001b[0m\u001b[0;34m\u001b[0m\u001b[0;34m\u001b[0m\u001b[0m\n\u001b[0m\u001b[1;32m    427\u001b[0m \u001b[0;34m\u001b[0m\u001b[0m\n\u001b[1;32m    428\u001b[0m     \u001b[0;32melif\u001b[0m \u001b[0mnp\u001b[0m\u001b[0;34m.\u001b[0m\u001b[0mndim\u001b[0m\u001b[0;34m(\u001b[0m\u001b[0mbins\u001b[0m\u001b[0;34m)\u001b[0m \u001b[0;34m==\u001b[0m \u001b[0;36m1\u001b[0m\u001b[0;34m:\u001b[0m\u001b[0;34m\u001b[0m\u001b[0;34m\u001b[0m\u001b[0m\n",
            "\u001b[0;32m/usr/lib/python3/dist-packages/numpy/lib/histograms.py\u001b[0m in \u001b[0;36m_get_outer_edges\u001b[0;34m(a, range)\u001b[0m\n\u001b[1;32m    313\u001b[0m                 'max must be larger than min in range parameter.')\n\u001b[1;32m    314\u001b[0m         \u001b[0;32mif\u001b[0m \u001b[0;32mnot\u001b[0m \u001b[0;34m(\u001b[0m\u001b[0mnp\u001b[0m\u001b[0;34m.\u001b[0m\u001b[0misfinite\u001b[0m\u001b[0;34m(\u001b[0m\u001b[0mfirst_edge\u001b[0m\u001b[0;34m)\u001b[0m \u001b[0;32mand\u001b[0m \u001b[0mnp\u001b[0m\u001b[0;34m.\u001b[0m\u001b[0misfinite\u001b[0m\u001b[0;34m(\u001b[0m\u001b[0mlast_edge\u001b[0m\u001b[0;34m)\u001b[0m\u001b[0;34m)\u001b[0m\u001b[0;34m:\u001b[0m\u001b[0;34m\u001b[0m\u001b[0;34m\u001b[0m\u001b[0m\n\u001b[0;32m--> 315\u001b[0;31m             raise ValueError(\n\u001b[0m\u001b[1;32m    316\u001b[0m                 \"supplied range of [{}, {}] is not finite\".format(first_edge, last_edge))\n\u001b[1;32m    317\u001b[0m     \u001b[0;32melif\u001b[0m \u001b[0ma\u001b[0m\u001b[0;34m.\u001b[0m\u001b[0msize\u001b[0m \u001b[0;34m==\u001b[0m \u001b[0;36m0\u001b[0m\u001b[0;34m:\u001b[0m\u001b[0;34m\u001b[0m\u001b[0;34m\u001b[0m\u001b[0m\n",
            "\u001b[0;31mValueError\u001b[0m: supplied range of [68.72877502441406, inf] is not finite"
          ]
        },
        {
          "data": {
            "image/png": "[encoded data removed]",
            "text/plain": [
              "<Figure size 720x576 with 4 Axes>"
            ]
          },
          "metadata": {
            "needs_background": "light"
          },
          "output_type": "display_data"
        }
      ],
      "source": [
        "fig, axs = plt.subplots(2, 2, figsize=(10, 8))\n",
        "fig.suptitle(\"Histogram of Variables\")\n",
        "\n",
        "n_bins = 100\n",
        "\n",
        "axs[0, 0].hist(x[:, 0], bins=n_bins, label='Original', alpha=0.5, log=True)\n",
        "axs[0, 0].hist(xcomp[:, 0], bins=n_bins, label='Compressed', alpha=0.5)\n",
        "axs[0, 0].set_title(labels_map[0])\n",
        "axs[0, 0].set_xlabel(\"Value\")\n",
        "axs[0, 0].set_ylabel(\"Frequency\")\n",
        "axs[0, 0].legend()\n",
        "\n",
        "axs[0, 1].hist(x[:, 1], bins=n_bins, label='Original', alpha=0.5, log=True)\n",
        "axs[0, 1].hist(xcomp[:, 1], bins=n_bins, label='Compressed', alpha=0.5)\n",
        "axs[0, 1].set_title(labels_map[1])\n",
        "axs[0, 1].set_xlabel(\"Value\")\n",
        "axs[0, 1].set_ylabel(\"Frequency\")\n",
        "axs[0, 1].legend()\n",
        "\n",
        "axs[1, 0].hist(x[:, 2], bins=n_bins, label='Original', alpha=0.5, log=True)\n",
        "axs[1, 0].hist(xcomp[:, 2], bins=n_bins, label='Compressed', alpha=0.5)\n",
        "axs[1, 0].set_title(labels_map[2])\n",
        "axs[1, 0].set_xlabel(\"Value\")\n",
        "axs[1, 0].set_ylabel(\"Frequency\")\n",
        "axs[1, 0].legend()\n",
        "\n",
        "axs[1, 1].hist(x[:, 3], bins=n_bins, label='Original', alpha=0.5, log=True)\n",
        "axs[1, 1].hist(xcomp[:, 3], bins=n_bins, label='Compressed', alpha=0.5)\n",
        "axs[1, 1].set_title(labels_map[3])\n",
        "axs[1, 1].set_xlabel(\"Value\")\n",
        "axs[1, 1].set_ylabel(\"Frequency\")\n",
        "axs[1, 1].legend()\n",
        "\n",
        "plt.tight_layout()\n",
        "plt.show()\n",
        "fig.savefig('figures/Variables_comparison.pdf', dpi=190)\n"
      ]
    }
  ],
  "metadata": {
    "accelerator": "GPU",
    "colab": {
      "gpuType": "A100",
      "machine_shape": "hm",
      "provenance": []
    },
    "kernelspec": {
      "display_name": "Python 3",
      "name": "python3"
    },
    "language_info": {
      "codemirror_mode": {
        "name": "ipython",
        "version": 3
      },
      "file_extension": ".py",
      "mimetype": "text/x-python",
      "name": "python",
      "nbconvert_exporter": "python",
      "pygments_lexer": "ipython3",
      "version": "3.10.12"
    }
  },
  "nbformat": 4,
  "nbformat_minor": 0
}
