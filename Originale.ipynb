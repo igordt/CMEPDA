{
  "cells": [
    {
      "cell_type": "code",
      "execution_count": 1,
      "metadata": {
        "colab": {
          "base_uri": "https://localhost:8080/"
        },
        "id": "jwDlIleWug4_",
        "outputId": "21400cff-4d87-4af6-e94e-8bdf247fa18c"
      },
      "outputs": [
        {
          "name": "stdout",
          "output_type": "stream",
          "text": [
            "figures  Originale.ipynb  README.md\n"
          ]
        },
        {
          "name": "stdout",
          "output_type": "stream",
          "text": [
            "Defaulting to user installation because normal site-packages is not writeable\n",
            "Requirement already satisfied: nflows in /home/unipi/i.ditota/.local/lib/python3.10/site-packages (0.14)\n",
            "Requirement already satisfied: numpy in /usr/lib/python3/dist-packages (from nflows) (1.21.5)\n",
            "Requirement already satisfied: tensorboard in /home/unipi/i.ditota/.local/lib/python3.10/site-packages (from nflows) (2.15.1)\n",
            "Requirement already satisfied: matplotlib in /usr/lib/python3/dist-packages (from nflows) (3.5.1)\n",
            "Requirement already satisfied: torch in /home/unipi/i.ditota/.local/lib/python3.10/site-packages (from nflows) (2.1.2)\n",
            "Requirement already satisfied: tqdm in /home/unipi/i.ditota/.local/lib/python3.10/site-packages (from nflows) (4.66.1)\n",
            "Requirement already satisfied: absl-py>=0.4 in /home/unipi/i.ditota/.local/lib/python3.10/site-packages (from tensorboard->nflows) (2.1.0)\n",
            "Requirement already satisfied: six>1.9 in /usr/lib/python3/dist-packages (from tensorboard->nflows) (1.16.0)\n",
            "Requirement already satisfied: werkzeug>=1.0.1 in /home/unipi/i.ditota/.local/lib/python3.10/site-packages (from tensorboard->nflows) (3.0.1)\n",
            "Requirement already satisfied: google-auth<3,>=1.6.3 in /home/unipi/i.ditota/.local/lib/python3.10/site-packages (from tensorboard->nflows) (2.27.0)\n",
            "Requirement already satisfied: grpcio>=1.48.2 in /home/unipi/i.ditota/.local/lib/python3.10/site-packages (from tensorboard->nflows) (1.60.0)\n",
            "Requirement already satisfied: google-auth-oauthlib<2,>=0.5 in /home/unipi/i.ditota/.local/lib/python3.10/site-packages (from tensorboard->nflows) (1.2.0)\n",
            "Requirement already satisfied: requests<3,>=2.21.0 in /usr/lib/python3/dist-packages (from tensorboard->nflows) (2.25.1)\n",
            "Requirement already satisfied: protobuf<4.24,>=3.19.6 in /home/unipi/i.ditota/.local/lib/python3.10/site-packages (from tensorboard->nflows) (4.23.4)\n",
            "Requirement already satisfied: setuptools>=41.0.0 in /usr/lib/python3/dist-packages (from tensorboard->nflows) (59.6.0)\n",
            "Requirement already satisfied: markdown>=2.6.8 in /home/unipi/i.ditota/.local/lib/python3.10/site-packages (from tensorboard->nflows) (3.5.2)\n",
            "Requirement already satisfied: tensorboard-data-server<0.8.0,>=0.7.0 in /home/unipi/i.ditota/.local/lib/python3.10/site-packages (from tensorboard->nflows) (0.7.2)\n",
            "Requirement already satisfied: sympy in /usr/lib/python3/dist-packages (from torch->nflows) (1.9)\n",
            "Requirement already satisfied: nvidia-cublas-cu12==12.1.3.1 in /home/unipi/i.ditota/.local/lib/python3.10/site-packages (from torch->nflows) (12.1.3.1)\n",
            "Requirement already satisfied: nvidia-cufft-cu12==11.0.2.54 in /home/unipi/i.ditota/.local/lib/python3.10/site-packages (from torch->nflows) (11.0.2.54)\n",
            "Requirement already satisfied: nvidia-cuda-nvrtc-cu12==12.1.105 in /home/unipi/i.ditota/.local/lib/python3.10/site-packages (from torch->nflows) (12.1.105)\n",
            "Requirement already satisfied: nvidia-cuda-runtime-cu12==12.1.105 in /home/unipi/i.ditota/.local/lib/python3.10/site-packages (from torch->nflows) (12.1.105)\n",
            "Requirement already satisfied: networkx in /usr/lib/python3/dist-packages (from torch->nflows) (2.4)\n",
            "Requirement already satisfied: fsspec in /home/unipi/i.ditota/.local/lib/python3.10/site-packages (from torch->nflows) (2023.12.2)\n",
            "Requirement already satisfied: nvidia-cudnn-cu12==8.9.2.26 in /home/unipi/i.ditota/.local/lib/python3.10/site-packages (from torch->nflows) (8.9.2.26)\n",
            "Requirement already satisfied: typing-extensions in /home/unipi/i.ditota/.local/lib/python3.10/site-packages (from torch->nflows) (4.4.0)\n",
            "Requirement already satisfied: nvidia-cusparse-cu12==12.1.0.106 in /home/unipi/i.ditota/.local/lib/python3.10/site-packages (from torch->nflows) (12.1.0.106)\n",
            "Requirement already satisfied: jinja2 in /usr/lib/python3/dist-packages (from torch->nflows) (3.0.3)\n",
            "Requirement already satisfied: nvidia-nccl-cu12==2.18.1 in /home/unipi/i.ditota/.local/lib/python3.10/site-packages (from torch->nflows) (2.18.1)\n",
            "Requirement already satisfied: nvidia-cusolver-cu12==11.4.5.107 in /home/unipi/i.ditota/.local/lib/python3.10/site-packages (from torch->nflows) (11.4.5.107)\n",
            "Requirement already satisfied: nvidia-curand-cu12==10.3.2.106 in /home/unipi/i.ditota/.local/lib/python3.10/site-packages (from torch->nflows) (10.3.2.106)\n",
            "Requirement already satisfied: filelock in /usr/lib/python3/dist-packages (from torch->nflows) (3.6.0)\n",
            "Requirement already satisfied: nvidia-nvtx-cu12==12.1.105 in /home/unipi/i.ditota/.local/lib/python3.10/site-packages (from torch->nflows) (12.1.105)\n",
            "Requirement already satisfied: triton==2.1.0 in /home/unipi/i.ditota/.local/lib/python3.10/site-packages (from torch->nflows) (2.1.0)\n",
            "Requirement already satisfied: nvidia-cuda-cupti-cu12==12.1.105 in /home/unipi/i.ditota/.local/lib/python3.10/site-packages (from torch->nflows) (12.1.105)\n",
            "Requirement already satisfied: nvidia-nvjitlink-cu12 in /home/unipi/i.ditota/.local/lib/python3.10/site-packages (from nvidia-cusolver-cu12==11.4.5.107->torch->nflows) (12.3.101)\n",
            "Requirement already satisfied: pyasn1-modules>=0.2.1 in /usr/lib/python3/dist-packages (from google-auth<3,>=1.6.3->tensorboard->nflows) (0.2.1)\n",
            "Requirement already satisfied: rsa<5,>=3.1.4 in /home/unipi/i.ditota/.local/lib/python3.10/site-packages (from google-auth<3,>=1.6.3->tensorboard->nflows) (4.9)\n",
            "Requirement already satisfied: cachetools<6.0,>=2.0.0 in /home/unipi/i.ditota/.local/lib/python3.10/site-packages (from google-auth<3,>=1.6.3->tensorboard->nflows) (5.3.2)\n",
            "Requirement already satisfied: requests-oauthlib>=0.7.0 in /home/unipi/i.ditota/.local/lib/python3.10/site-packages (from google-auth-oauthlib<2,>=0.5->tensorboard->nflows) (1.3.1)\n",
            "Requirement already satisfied: MarkupSafe>=2.1.1 in /home/unipi/i.ditota/.local/lib/python3.10/site-packages (from werkzeug>=1.0.1->tensorboard->nflows) (2.1.4)\n",
            "Requirement already satisfied: oauthlib>=3.0.0 in /usr/lib/python3/dist-packages (from requests-oauthlib>=0.7.0->google-auth-oauthlib<2,>=0.5->tensorboard->nflows) (3.2.0)\n",
            "Requirement already satisfied: pyasn1>=0.1.3 in /usr/lib/python3/dist-packages (from rsa<5,>=3.1.4->google-auth<3,>=1.6.3->tensorboard->nflows) (0.4.8)\n",
            "Defaulting to user installation because normal site-packages is not writeable\n",
            "Requirement already satisfied: nvitop in /home/unipi/i.ditota/.local/lib/python3.10/site-packages (1.3.2)\n",
            "Requirement already satisfied: cachetools>=1.0.1 in /home/unipi/i.ditota/.local/lib/python3.10/site-packages (from nvitop) (5.3.2)\n",
            "Requirement already satisfied: termcolor>=1.0.0 in /home/unipi/i.ditota/.local/lib/python3.10/site-packages (from nvitop) (2.4.0)\n",
            "Requirement already satisfied: nvidia-ml-py<12.536.0a0,>=11.450.51 in /home/unipi/i.ditota/.local/lib/python3.10/site-packages (from nvitop) (12.535.133)\n",
            "Requirement already satisfied: psutil>=5.6.6 in /usr/lib/python3/dist-packages (from nvitop) (5.9.0)\n"
          ]
        }
      ],
      "source": [
        "file_id_train = \"17LdtNKkpOEpk-l_EKX4BwtGUm0ML6vmT\" #links = 2 (472827)events\n",
        "file_id_val = \"1WC-TS1pel_lUT7bPenVyDXKEQjxjAmlg\" #links = 1 (920599)events\n",
        "\n",
        "#!gdown https://drive.google.com/uc?id={file_id_train}\n",
        "#!gdown https://drive.google.com/uc?id={file_id_val}\n",
        "!ls\n",
        "\n",
        "!pip install nflows\n",
        "!pip install nvitop"
      ]
    },
    {
      "cell_type": "code",
      "execution_count": 2,
      "metadata": {
        "id": "XeWj117PLm-R"
      },
      "outputs": [],
      "source": [
        "#training\n",
        "# gaus = flow(data)\n",
        "# unif = erf(gaus)\n",
        "# unif' = unif * 2**N\n",
        "# unif'' = int(unif')\n",
        "# comp = unif''/2**N\n",
        "# gaus' = erfinv(comp)\n",
        "# data' = flow^-1(gaus') ==? data"
      ]
    },
    {
      "cell_type": "code",
      "execution_count": 3,
      "metadata": {
        "id": "TVqwByBl5nam"
      },
      "outputs": [],
      "source": [
        "from nflows.flows.base import Flow\n",
        "from nflows.distributions.normal import StandardNormal\n",
        "from nflows.transforms.base import CompositeTransform\n",
        "from nflows.transforms.autoregressive import MaskedAffineAutoregressiveTransform\n",
        "from nflows.transforms.permutations import ReversePermutation\n",
        "\n",
        "from torch import optim\n",
        "from sklearn import preprocessing\n",
        "import scipy.special"
      ]
    },
    {
      "cell_type": "code",
      "execution_count": 4,
      "metadata": {
        "id": "2l-8bpvDmAB3"
      },
      "outputs": [],
      "source": [
        "import numpy as np\n",
        "import matplotlib.pyplot as plt\n",
        "import torch\n",
        "import math\n",
        "import gc"
      ]
    },
    {
      "cell_type": "code",
      "execution_count": 5,
      "metadata": {
        "id": "6Vc-5tzJ6vSq"
      },
      "outputs": [],
      "source": [
        "labels_map = {\n",
        "    0: \"$p_T$\",\n",
        "    1: \"$\\eta$\",\n",
        "    2: \"$\\phi$\",\n",
        "    3: \"mass\",\n",
        "    4: \"JetArea\",\n",
        "    5: \"ChargedHadronEnergy\",\n",
        "    6: \"NeutralHadronEnergy\",\n",
        "    7: \"PhotonEnergy\",\n",
        "    8: \"ElectronEnergy\",\n",
        "    9: \"MuonEnergy\",\n",
        "    10: \"HFHadronHadronEnergy\",\n",
        "    11: \"HFEMEnergy\",\n",
        "    12: \"ChargedHadronMultiplicity\",\n",
        "    13: \"NeutralHadronMultiplicity\",\n",
        "    14: \"PhotonMultiplicity\",\n",
        "    15: \"ElectronMultiplicity\",\n",
        "    16: \"MuonMultiplicity\",\n",
        "    17: \"HFHadronMultiplicity\",\n",
        "    18: \"HFEMMultiplicity\",\n",
        "    19: \"ChargedEmEnergy\",\n",
        "    20: \"ChargedMuEnergy\",\n",
        "    21: \"NeutralEmEnergy\",\n",
        "    22: \"ChargedMultiplicity\",\n",
        "    23: \"NeutralMultiplicity\",\n",
        "}\n",
        "num_features = len(labels_map)\n",
        "\n",
        "index_int = np.append(np.arange(12,19),[22,23])\n",
        "index_float = np.append(np.arange(0,12),np.arange(19,22))"
      ]
    },
    {
      "cell_type": "code",
      "execution_count": 16,
      "metadata": {
        "colab": {
          "base_uri": "https://localhost:8080/"
        },
        "id": "TTR7jb9mchWy",
        "outputId": "85a59844-0df8-45bc-901a-38679aed4142"
      },
      "outputs": [
        {
          "name": "stdout",
          "output_type": "stream",
          "text": [
            "472827\n"
          ]
        }
      ],
      "source": [
        "x = np.loadtxt(\"/home/unipi/i.ditota/Desktop/dataset_piccolo.txt\", delimiter=',')\n",
        "xval = np.loadtxt(\"/home/unipi/i.ditota/Desktop/dataset.txt\", delimiter=',')\n",
        "L=len(x)\n",
        "print(L)"
      ]
    },
    {
      "cell_type": "code",
      "execution_count": 17,
      "metadata": {
        "colab": {
          "base_uri": "https://localhost:8080/"
        },
        "id": "6JO7V1q6mPFW",
        "outputId": "985bf12c-7b7e-4fe1-ff28-51ec78378e13"
      },
      "outputs": [
        {
          "name": "stdout",
          "output_type": "stream",
          "text": [
            "Eventi = 59103\n",
            "attribute\tvalue\ttype\n",
            "\n",
            "$p_T$\t15.8641204834\t<class 'numpy.float64'>\n",
            "\n",
            "$\\eta$\t-2.97655129433\t<class 'numpy.float64'>\n",
            "\n",
            "$\\phi$\t-1.19218158722\t<class 'numpy.float64'>\n",
            "\n",
            "mass\t4.52637481689\t<class 'numpy.float64'>\n",
            "\n"
          ]
        }
      ],
      "source": [
        "x = x[:int(L/8),:]\n",
        "xval = xval[:len(x),:]\n",
        "\n",
        "num_features = 4\n",
        "x = x[:,0:num_features]\n",
        "xval = xval[:,0:num_features]\n",
        "\n",
        "print('Eventi =',len(x))\n",
        "print('attribute\\tvalue\\ttype\\n')\n",
        "for i in range(0,num_features,1):\n",
        "  print('{0}\\t{1}\\t{2}\\n'.format(labels_map[i],x[100,i],type(x[100,i])))\n",
        "\n",
        "xtr = np.copy(x)\n",
        "xtrval = np.copy(xval)\n",
        "\n",
        "#we shift so as to avoid applying the logarithm to numbers in (0,1), log per smussare i picchi\n",
        "xtr = np.log(10 + x)\n",
        "\n",
        "\n",
        "xtrval = np.log(10 + xval)\n",
        "#xtrval[:,3] = np.log(1 + xval[:,3])\n",
        "\n",
        "\n",
        "#standardization of the dataset\n",
        "scaler = preprocessing.StandardScaler().fit(xtr)\n",
        "xtr = scaler.transform(xtr)\n",
        "\n",
        "\n",
        "\n",
        "scaler = preprocessing.StandardScaler().fit(xtrval)\n",
        "xtrval = scaler.transform(xtrval)\n",
        "\n",
        "xt = torch.tensor(xtr).to('cuda').float()\n",
        "xval = torch.tensor(xtrval).to('cuda').float()"
      ]
    },
    {
      "cell_type": "code",
      "execution_count": 18,
      "metadata": {
        "colab": {
          "base_uri": "https://localhost:8080/",
          "height": 805
        },
        "id": "QEAIdmZvWdix",
        "outputId": "5d3d2be5-0e9d-429a-efc7-f59ac196825e"
      },
      "outputs": [
        {
          "data": {
            "image/png": "[encoded data removed]",
            "text/plain": [
              "<Figure size 720x576 with 4 Axes>"
            ]
          },
          "metadata": {
            "needs_background": "light"
          },
          "output_type": "display_data"
        }
      ],
      "source": [
        "fig, axs = plt.subplots(2, 2, figsize=(10, 8))\n",
        "fig.suptitle(\"Histogram of Dataset Features\")\n",
        "n_bins = 100\n",
        "\n",
        "axs[0, 0].hist(xtr[:, 0], bins=n_bins,log=True)\n",
        "axs[0, 0].set_title(labels_map[0])\n",
        "axs[0, 0].set_xlabel(\"Value\")\n",
        "axs[0, 0].set_ylabel(\"Frequency\")\n",
        "\n",
        "axs[0, 1].hist(xtr[:, 1], bins=n_bins,log=True)\n",
        "axs[0, 1].set_title(labels_map[1])\n",
        "axs[0, 1].set_xlabel(\"Value\")\n",
        "axs[0, 1].set_ylabel(\"Frequency\")\n",
        "\n",
        "axs[1, 0].hist(xtr[:, 2], bins=n_bins,log=True)\n",
        "axs[1, 0].set_title(labels_map[2])\n",
        "axs[1, 0].set_xlabel(\"Value\")\n",
        "axs[1, 0].set_ylabel(\"Frequency\")\n",
        "\n",
        "axs[1, 1].hist(xtr[:, 3], bins=n_bins,log=True)\n",
        "axs[1, 1].set_title(labels_map[3])\n",
        "axs[1, 1].set_xlabel(\"Value\")\n",
        "axs[1, 1].set_ylabel(\"Frequency\")\n",
        "\n",
        "plt.tight_layout()\n",
        "plt.show()\n",
        "fig.savefig('figures/Variables_distribution_transformed.pdf',dpi=190)\n"
      ]
    },
    {
      "cell_type": "code",
      "execution_count": 19,
      "metadata": {
        "colab": {
          "base_uri": "https://localhost:8080/",
          "height": 610
        },
        "id": "qCDxbpDhvkH-",
        "outputId": "7f100065-20ed-4e34-b819-2213a08876bd"
      },
      "outputs": [
        {
          "data": {
            "image/png": "[encoded data removed]",
            "text/plain": [
              "<Figure size 504x432 with 4 Axes>"
            ]
          },
          "metadata": {
            "needs_background": "light"
          },
          "output_type": "display_data"
        }
      ],
      "source": [
        "fig,axs = plt.subplots(2, 2,figsize=(7,6))\n",
        "fig.suptitle(\"Variables distribution\")\n",
        "n_bins = 100\n",
        "\n",
        "axs[0, 0].hist(x[:,0],bins=n_bins, range=(0,1500))\n",
        "axs[0, 0].set_title('Axis [0, 0]')\n",
        "axs[0, 0].set_title('{} [GeV]'.format(labels_map[0]))\n",
        "axs[0, 0].set_label(\"Counts\")\n",
        "axs[0, 0].set_ylim(1,10e4)\n",
        "\n",
        "axs[0, 1].hist(x[:,1],bins=n_bins, range=(-5,5))\n",
        "axs[0, 1].set_title('{} [arb.]'.format(labels_map[1]))\n",
        "axs[0, 1].set_ylim(1,10e4)\n",
        "\n",
        "axs[1, 0].hist(x[:,2],bins=n_bins, range=(-3.30,3.30))\n",
        "axs[1, 0].set_title('{} [rad.]'.format(labels_map[2]))\n",
        "axs[1,0].sharey(axs[0,1])\n",
        "\n",
        "axs[1, 1].hist(x[:,3],bins=n_bins, range=(0,500))\n",
        "axs[1, 1].set_title('{} [GeV]'.format(labels_map[3]))\n",
        "axs[1,1].sharey(axs[0,0])\n",
        "\n",
        "for ax in axs.flat:\n",
        "    ax.set(ylabel='Counts',yscale='log')\n",
        "\n",
        "fig.tight_layout()\n",
        "\n",
        "plt.show()\n",
        "fig.savefig('figures/Variables_distribution.pdf',dpi=190)"
      ]
    },
    {
      "cell_type": "code",
      "execution_count": 20,
      "metadata": {
        "colab": {
          "base_uri": "https://localhost:8080/"
        },
        "id": "0jQxdoj82ILY",
        "outputId": "bebab872-1e4a-47af-c3d2-093afdf10018"
      },
      "outputs": [
        {
          "name": "stdout",
          "output_type": "stream",
          "text": [
            "541760\n"
          ]
        }
      ],
      "source": [
        "num_iterations = 8\n",
        "num_features=4 #just for testing\n",
        "\n",
        "base_dist = StandardNormal(shape=[num_features])\n",
        "\n",
        "transforms = []\n",
        "for _ in range(num_iterations):\n",
        "  transforms.append(ReversePermutation(features=num_features))\n",
        "  transforms.append(MaskedAffineAutoregressiveTransform(features=num_features,hidden_features=128))\n",
        "\n",
        "transform = CompositeTransform(transforms)\n",
        "\n",
        "flow = Flow(transform, base_dist)\n",
        "tp = sum(p.numel() for p in flow.parameters() if p.requires_grad)\n",
        "print(tp)\n",
        "optimizer = optim.Adam(flow.parameters())\n",
        "\n",
        "flow = flow.to('cuda')\n"
      ]
    },
    {
      "cell_type": "code",
      "execution_count": 21,
      "metadata": {
        "colab": {
          "base_uri": "https://localhost:8080/",
          "height": 1000
        },
        "id": "z6FBUAMSIrSf",
        "outputId": "1d3f87e9-a2f1-434b-dd02-c7b5df3349c9"
      },
      "outputs": [
        {
          "name": "stdout",
          "output_type": "stream",
          "text": [
            "50 tensor(4.6902, device='cuda:0', grad_fn=<NegBackward0>)\n",
            "100 tensor(3.1631, device='cuda:0', grad_fn=<NegBackward0>)\n",
            "150 tensor(3.0293, device='cuda:0', grad_fn=<NegBackward0>)\n",
            "200 tensor(2.9205, device='cuda:0', grad_fn=<NegBackward0>)\n",
            "250 tensor(2.8077, device='cuda:0', grad_fn=<NegBackward0>)\n",
            "300 tensor(2.7296, device='cuda:0', grad_fn=<NegBackward0>)\n",
            "350 tensor(2.7057, device='cuda:0', grad_fn=<NegBackward0>)\n",
            "400 tensor(2.6544, device='cuda:0', grad_fn=<NegBackward0>)\n",
            "450 tensor(2.7672, device='cuda:0', grad_fn=<NegBackward0>)\n",
            "500 tensor(2.6026, device='cuda:0', grad_fn=<NegBackward0>)\n",
            "550 tensor(2.5786, device='cuda:0', grad_fn=<NegBackward0>)\n",
            "600 tensor(2.5940, device='cuda:0', grad_fn=<NegBackward0>)\n",
            "650 tensor(2.5493, device='cuda:0', grad_fn=<NegBackward0>)\n",
            "700 tensor(2.5551, device='cuda:0', grad_fn=<NegBackward0>)\n",
            "750 tensor(2.5672, device='cuda:0', grad_fn=<NegBackward0>)\n",
            "800 tensor(2.5213, device='cuda:0', grad_fn=<NegBackward0>)\n",
            "850 tensor(2.5049, device='cuda:0', grad_fn=<NegBackward0>)\n",
            "900 tensor(2.5623, device='cuda:0', grad_fn=<NegBackward0>)\n",
            "950 tensor(2.4842, device='cuda:0', grad_fn=<NegBackward0>)\n",
            "1000 tensor(2.4907, device='cuda:0', grad_fn=<NegBackward0>)\n"
          ]
        },
        {
          "data": {
            "image/png": "[encoded data removed]",
            "text/plain": [
              "<Figure size 432x288 with 1 Axes>"
            ]
          },
          "metadata": {
            "needs_background": "light"
          },
          "output_type": "display_data"
        }
      ],
      "source": [
        "num_iter = 1000\n",
        "\n",
        "figloss=plt.figure()\n",
        "loss_values = []\n",
        "loss_validation = []\n",
        "for i in range(num_iter):\n",
        "  optimizer.zero_grad()\n",
        "  loss = -flow.log_prob(inputs=xt).mean()\n",
        "  loss_val = -flow.log_prob(inputs=xval).mean()\n",
        "  loss.backward()\n",
        "  optimizer.step()\n",
        "  loss_values.append(loss.cpu().detach().numpy())\n",
        "  loss_validation.append(loss_val.cpu().detach().numpy())\n",
        "  if (i+1) % 50 == 0:\n",
        "    print(i+1,loss)\n",
        "\n",
        "plt.plot(range(1, num_iter+1), loss_values, label='$loss$')\n",
        "plt.plot(range(1, num_iter+1), loss_validation,label='$loss_{val}$')\n",
        "plt.xlabel('epochs')\n",
        "plt.ylabel('loss')\n",
        "plt.yscale('log')\n",
        "plt.legend()\n",
        "plt.show()\n",
        "figloss.savefig('figures/Loss_comparison.pdf',dpi=190)"
      ]
    },
    {
      "cell_type": "code",
      "execution_count": 22,
      "metadata": {
        "colab": {
          "base_uri": "https://localhost:8080/"
        },
        "id": "iOKV0eOHJazW",
        "outputId": "a47ca33f-41d1-47a8-9d5a-43ebece79187"
      },
      "outputs": [
        {
          "name": "stdout",
          "output_type": "stream",
          "text": [
            "torch.Size([59103, 4])\n"
          ]
        }
      ],
      "source": [
        "sample = flow.sample(int(len(x)))\n",
        "print(sample.shape)\n",
        "sample = sample.cpu()\n",
        "sample = sample.detach().numpy()\n"
      ]
    },
    {
      "cell_type": "code",
      "execution_count": 23,
      "metadata": {
        "id": "dPNWKOjSXepH"
      },
      "outputs": [],
      "source": [
        "sample = scaler.inverse_transform(sample)\n",
        "#sample = scipy.special.erf(sample)\n",
        "sample = np.exp(sample) - 10\n"
      ]
    },
    {
      "cell_type": "code",
      "execution_count": 24,
      "metadata": {
        "colab": {
          "base_uri": "https://localhost:8080/",
          "height": 610
        },
        "id": "6Jh8UrPUWCu-",
        "outputId": "1be9c6b3-989a-479d-d3a9-957fb014fc9e"
      },
      "outputs": [
        {
          "data": {
            "image/png": "[encoded data removed]",
            "text/plain": [
              "<Figure size 504x432 with 4 Axes>"
            ]
          },
          "metadata": {
            "needs_background": "light"
          },
          "output_type": "display_data"
        }
      ],
      "source": [
        "fig,axs = plt.subplots(2, 2,figsize=(7,6))\n",
        "fig.suptitle(\"Variables distribution\")\n",
        "n_bins = 100\n",
        "\n",
        "axs[0, 0].hist(x[:,0],bins=n_bins, range=(0,1500))\n",
        "axs[0, 0].hist(sample[:,0],bins=n_bins, range=(0,1500),histtype='step')\n",
        "axs[0, 0].set_title('Axis [0, 0]')\n",
        "axs[0, 0].set_title('{} [GeV]'.format(labels_map[0]))\n",
        "axs[0, 0].set_label(\"Counts\")\n",
        "axs[0, 0].set_ylim(1,10e4)\n",
        "\n",
        "axs[0, 1].hist(x[:,1],bins=n_bins, range=(-5,5))\n",
        "axs[0, 1].hist(sample[:,1],bins=n_bins, range=(-5,5),histtype='step')\n",
        "axs[0, 1].set_title('{} [arb.]'.format(labels_map[1]))\n",
        "axs[0, 1].set_ylim(1,10e4)\n",
        "\n",
        "axs[1, 0].hist(x[:,2],bins=n_bins, range=(-3.30,3.30))\n",
        "axs[1, 0].hist(sample[:,2],bins=n_bins, range=(-3.30,3.30),histtype='step')\n",
        "axs[1, 0].set_title('{} [rad.]'.format(labels_map[2]))\n",
        "axs[1,0].sharey(axs[0,1])\n",
        "\n",
        "axs[1, 1].hist(x[:,3],bins=n_bins, range=(0,500))\n",
        "axs[1, 1].hist(sample[:,3],bins=n_bins, range=(0,500),histtype='step')\n",
        "axs[1, 1].set_title('{} [GeV]'.format(labels_map[3]))\n",
        "axs[1,1].sharey(axs[0,0])\n",
        "\n",
        "for ax in axs.flat:\n",
        "    ax.set(ylabel='Counts',yscale='log')\n",
        "\n",
        "fig.tight_layout()\n",
        "\n",
        "plt.show()\n",
        "fig.savefig('figures/Variables_distribution_with_reconstruction.pdf',dpi=190)"
      ]
    },
    {
      "cell_type": "code",
      "execution_count": 25,
      "metadata": {
        "colab": {
          "base_uri": "https://localhost:8080/"
        },
        "id": "wfkI8rH4f9KQ",
        "outputId": "c648662f-6447-4db6-aef5-cd4aa841f1dc"
      },
      "outputs": [
        {
          "data": {
            "text/plain": [
              "True"
            ]
          },
          "execution_count": 25,
          "metadata": {},
          "output_type": "execute_result"
        }
      ],
      "source": [
        "torch.cuda.empty_cache()\n",
        "gc.collect()\n",
        "next(flow.parameters()).is_cuda"
      ]
    }
  ],
  "metadata": {
    "accelerator": "GPU",
    "colab": {
      "gpuType": "A100",
      "machine_shape": "hm",
      "provenance": []
    },
    "kernelspec": {
      "display_name": "Python 3",
      "name": "python3"
    },
    "language_info": {
      "codemirror_mode": {
        "name": "ipython",
        "version": 3
      },
      "file_extension": ".py",
      "mimetype": "text/x-python",
      "name": "python",
      "nbconvert_exporter": "python",
      "pygments_lexer": "ipython3",
      "version": "3.10.12"
    }
  },
  "nbformat": 4,
  "nbformat_minor": 0
}
